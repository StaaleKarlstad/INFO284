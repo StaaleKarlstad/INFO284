{
 "cells": [
  {
   "cell_type": "code",
   "execution_count": 108,
   "outputs": [],
   "source": [
    "import pandas as pd\n",
    "import numpy as np\n",
    "import matplotlib.pyplot as plt\n",
    "import sklearn"
   ],
   "metadata": {
    "collapsed": false,
    "ExecuteTime": {
     "end_time": "2024-02-22T23:17:48.233443800Z",
     "start_time": "2024-02-22T23:17:48.210937Z"
    }
   },
   "id": "4b1d6e22cb1882de"
  },
  {
   "cell_type": "code",
   "execution_count": 109,
   "outputs": [
    {
     "data": {
      "text/plain": "   Melding ID Meldingstidspunkt Meldingsdato Meldingsklokkeslett  \\\n0     1497177        01.01.2018   01.01.2018               00:00   \n1     1497178        01.01.2018   01.01.2018               00:00   \n2     1497178        01.01.2018   01.01.2018               00:00   \n3     1497178        01.01.2018   01.01.2018               00:00   \n4     1497178        01.01.2018   01.01.2018               00:00   \n\n     Starttidspunkt   Startdato Startklokkeslett Startposisjon bredde  \\\n0        31.12.2017  31.12.2017            00:00               -60,35   \n1  30.12.2017 23:21  30.12.2017            23:21               74,885   \n2  30.12.2017 23:21  30.12.2017            23:21               74,885   \n3  30.12.2017 23:21  30.12.2017            23:21               74,885   \n4  30.12.2017 23:21  30.12.2017            23:21               74,885   \n\n  Startposisjon lengde  Hovedområde start (kode)  ...        Art - FDIR  \\\n0              -46,133                       NaN  ...  Antarktisk krill   \n1               16,048                      20.0  ...              Hyse   \n2               16,048                      20.0  ...             Torsk   \n3               16,048                      20.0  ...         Blåkveite   \n4               16,048                      20.0  ...               Sei   \n\n   Art - gruppe (kode)      Art - gruppe  Rundvekt Lengdegruppe (kode)  \\\n0                506.0  Antarktisk krill  706714.0                 5.0   \n1                202.0              Hyse    9594.0                 5.0   \n2                201.0             Torsk    8510.0                 5.0   \n3                301.0         Blåkveite     196.0                 5.0   \n4                203.0               Sei     134.0                 5.0   \n\n   Lengdegruppe  Bruttotonnasje 1969  Bruttotonnasje annen Bredde Fartøylengde  \n0  28 m og over               9432.0                   NaN  19,87       133,88  \n1  28 m og over               1476.0                   NaN   12,6         56,8  \n2  28 m og over               1476.0                   NaN   12,6         56,8  \n3  28 m og over               1476.0                   NaN   12,6         56,8  \n4  28 m og over               1476.0                   NaN   12,6         56,8  \n\n[5 rows x 45 columns]",
      "text/html": "<div>\n<style scoped>\n    .dataframe tbody tr th:only-of-type {\n        vertical-align: middle;\n    }\n\n    .dataframe tbody tr th {\n        vertical-align: top;\n    }\n\n    .dataframe thead th {\n        text-align: right;\n    }\n</style>\n<table border=\"1\" class=\"dataframe\">\n  <thead>\n    <tr style=\"text-align: right;\">\n      <th></th>\n      <th>Melding ID</th>\n      <th>Meldingstidspunkt</th>\n      <th>Meldingsdato</th>\n      <th>Meldingsklokkeslett</th>\n      <th>Starttidspunkt</th>\n      <th>Startdato</th>\n      <th>Startklokkeslett</th>\n      <th>Startposisjon bredde</th>\n      <th>Startposisjon lengde</th>\n      <th>Hovedområde start (kode)</th>\n      <th>...</th>\n      <th>Art - FDIR</th>\n      <th>Art - gruppe (kode)</th>\n      <th>Art - gruppe</th>\n      <th>Rundvekt</th>\n      <th>Lengdegruppe (kode)</th>\n      <th>Lengdegruppe</th>\n      <th>Bruttotonnasje 1969</th>\n      <th>Bruttotonnasje annen</th>\n      <th>Bredde</th>\n      <th>Fartøylengde</th>\n    </tr>\n  </thead>\n  <tbody>\n    <tr>\n      <th>0</th>\n      <td>1497177</td>\n      <td>01.01.2018</td>\n      <td>01.01.2018</td>\n      <td>00:00</td>\n      <td>31.12.2017</td>\n      <td>31.12.2017</td>\n      <td>00:00</td>\n      <td>-60,35</td>\n      <td>-46,133</td>\n      <td>NaN</td>\n      <td>...</td>\n      <td>Antarktisk krill</td>\n      <td>506.0</td>\n      <td>Antarktisk krill</td>\n      <td>706714.0</td>\n      <td>5.0</td>\n      <td>28 m og over</td>\n      <td>9432.0</td>\n      <td>NaN</td>\n      <td>19,87</td>\n      <td>133,88</td>\n    </tr>\n    <tr>\n      <th>1</th>\n      <td>1497178</td>\n      <td>01.01.2018</td>\n      <td>01.01.2018</td>\n      <td>00:00</td>\n      <td>30.12.2017 23:21</td>\n      <td>30.12.2017</td>\n      <td>23:21</td>\n      <td>74,885</td>\n      <td>16,048</td>\n      <td>20.0</td>\n      <td>...</td>\n      <td>Hyse</td>\n      <td>202.0</td>\n      <td>Hyse</td>\n      <td>9594.0</td>\n      <td>5.0</td>\n      <td>28 m og over</td>\n      <td>1476.0</td>\n      <td>NaN</td>\n      <td>12,6</td>\n      <td>56,8</td>\n    </tr>\n    <tr>\n      <th>2</th>\n      <td>1497178</td>\n      <td>01.01.2018</td>\n      <td>01.01.2018</td>\n      <td>00:00</td>\n      <td>30.12.2017 23:21</td>\n      <td>30.12.2017</td>\n      <td>23:21</td>\n      <td>74,885</td>\n      <td>16,048</td>\n      <td>20.0</td>\n      <td>...</td>\n      <td>Torsk</td>\n      <td>201.0</td>\n      <td>Torsk</td>\n      <td>8510.0</td>\n      <td>5.0</td>\n      <td>28 m og over</td>\n      <td>1476.0</td>\n      <td>NaN</td>\n      <td>12,6</td>\n      <td>56,8</td>\n    </tr>\n    <tr>\n      <th>3</th>\n      <td>1497178</td>\n      <td>01.01.2018</td>\n      <td>01.01.2018</td>\n      <td>00:00</td>\n      <td>30.12.2017 23:21</td>\n      <td>30.12.2017</td>\n      <td>23:21</td>\n      <td>74,885</td>\n      <td>16,048</td>\n      <td>20.0</td>\n      <td>...</td>\n      <td>Blåkveite</td>\n      <td>301.0</td>\n      <td>Blåkveite</td>\n      <td>196.0</td>\n      <td>5.0</td>\n      <td>28 m og over</td>\n      <td>1476.0</td>\n      <td>NaN</td>\n      <td>12,6</td>\n      <td>56,8</td>\n    </tr>\n    <tr>\n      <th>4</th>\n      <td>1497178</td>\n      <td>01.01.2018</td>\n      <td>01.01.2018</td>\n      <td>00:00</td>\n      <td>30.12.2017 23:21</td>\n      <td>30.12.2017</td>\n      <td>23:21</td>\n      <td>74,885</td>\n      <td>16,048</td>\n      <td>20.0</td>\n      <td>...</td>\n      <td>Sei</td>\n      <td>203.0</td>\n      <td>Sei</td>\n      <td>134.0</td>\n      <td>5.0</td>\n      <td>28 m og over</td>\n      <td>1476.0</td>\n      <td>NaN</td>\n      <td>12,6</td>\n      <td>56,8</td>\n    </tr>\n  </tbody>\n</table>\n<p>5 rows × 45 columns</p>\n</div>"
     },
     "execution_count": 109,
     "metadata": {},
     "output_type": "execute_result"
    }
   ],
   "source": [
    "df = pd.read_csv('../Resources/elektronisk-rapportering-ers-2018-fangstmelding-dca-simple.csv', delimiter=';')\n",
    "df.head(5)"
   ],
   "metadata": {
    "collapsed": false,
    "ExecuteTime": {
     "end_time": "2024-02-22T23:17:49.162162400Z",
     "start_time": "2024-02-22T23:17:48.213444900Z"
    }
   },
   "id": "8f6c1df18e6f026c"
  },
  {
   "cell_type": "code",
   "execution_count": 110,
   "outputs": [
    {
     "data": {
      "text/plain": "Melding ID                    int64\nMeldingstidspunkt            object\nMeldingsdato                 object\nMeldingsklokkeslett          object\nStarttidspunkt               object\nStartdato                    object\nStartklokkeslett             object\nStartposisjon bredde         object\nStartposisjon lengde         object\nHovedområde start (kode)    float64\nHovedområde start            object\nLokasjon start (kode)       float64\nHavdybde start                int64\nStopptidspunkt               object\nStoppdato                    object\nStoppklokkeslett             object\nVarighet                      int64\nFangstår                      int64\nStopposisjon bredde          object\nStopposisjon lengde          object\nHovedområde stopp (kode)    float64\nHovedområde stopp            object\nLokasjon stopp (kode)       float64\nHavdybde stopp                int64\nTrekkavstand                float64\nRedskap FAO (kode)           object\nRedskap FAO                  object\nRedskap FDIR (kode)         float64\nRedskap FDIR                 object\nHovedart FAO (kode)          object\nHovedart FAO                 object\nHovedart - FDIR (kode)      float64\nArt FAO (kode)               object\nArt FAO                      object\nArt - FDIR (kode)           float64\nArt - FDIR                   object\nArt - gruppe (kode)         float64\nArt - gruppe                 object\nRundvekt                    float64\nLengdegruppe (kode)         float64\nLengdegruppe                 object\nBruttotonnasje 1969         float64\nBruttotonnasje annen        float64\nBredde                       object\nFartøylengde                 object\ndtype: object"
     },
     "execution_count": 110,
     "metadata": {},
     "output_type": "execute_result"
    }
   ],
   "source": [
    "df.dtypes"
   ],
   "metadata": {
    "collapsed": false,
    "ExecuteTime": {
     "end_time": "2024-02-22T23:17:49.163669800Z",
     "start_time": "2024-02-22T23:17:49.159712300Z"
    }
   },
   "id": "bf04f9951aacd9c5"
  },
  {
   "cell_type": "code",
   "execution_count": 111,
   "outputs": [
    {
     "data": {
      "text/plain": "              Art - FDIR  Rundvekt Hovedområde start    Starttidspunkt  \\\n0       Antarktisk krill  706714.0               NaN        31.12.2017   \n1                   Hyse    9594.0          Bjørnøya  30.12.2017 23:21   \n2                  Torsk    8510.0          Bjørnøya  30.12.2017 23:21   \n3              Blåkveite     196.0          Bjørnøya  30.12.2017 23:21   \n4                    Sei     134.0          Bjørnøya  30.12.2017 23:21   \n...                  ...       ...               ...               ...   \n305429       Gråsteinbit     145.0  Vest-Spitsbergen  31.12.2018 19:41   \n305430      Uer (vanlig)     136.0  Vest-Spitsbergen  31.12.2018 19:41   \n305431     Flekksteinbit     132.0  Vest-Spitsbergen  31.12.2018 19:41   \n305432         Snabeluer     102.0  Vest-Spitsbergen  31.12.2018 19:41   \n305433         Blåkveite      63.0  Vest-Spitsbergen  31.12.2018 19:41   \n\n       Redskap FDIR  Varighet Fartøylengde  \n0         Flytetrål      1440       133,88  \n1          Bunntrål       295         56,8  \n2          Bunntrål       295         56,8  \n3          Bunntrål       295         56,8  \n4          Bunntrål       295         56,8  \n...             ...       ...          ...  \n305429     Bunntrål       232         57,3  \n305430     Bunntrål       232         57,3  \n305431     Bunntrål       232         57,3  \n305432     Bunntrål       232         57,3  \n305433     Bunntrål       232         57,3  \n\n[305434 rows x 7 columns]",
      "text/html": "<div>\n<style scoped>\n    .dataframe tbody tr th:only-of-type {\n        vertical-align: middle;\n    }\n\n    .dataframe tbody tr th {\n        vertical-align: top;\n    }\n\n    .dataframe thead th {\n        text-align: right;\n    }\n</style>\n<table border=\"1\" class=\"dataframe\">\n  <thead>\n    <tr style=\"text-align: right;\">\n      <th></th>\n      <th>Art - FDIR</th>\n      <th>Rundvekt</th>\n      <th>Hovedområde start</th>\n      <th>Starttidspunkt</th>\n      <th>Redskap FDIR</th>\n      <th>Varighet</th>\n      <th>Fartøylengde</th>\n    </tr>\n  </thead>\n  <tbody>\n    <tr>\n      <th>0</th>\n      <td>Antarktisk krill</td>\n      <td>706714.0</td>\n      <td>NaN</td>\n      <td>31.12.2017</td>\n      <td>Flytetrål</td>\n      <td>1440</td>\n      <td>133,88</td>\n    </tr>\n    <tr>\n      <th>1</th>\n      <td>Hyse</td>\n      <td>9594.0</td>\n      <td>Bjørnøya</td>\n      <td>30.12.2017 23:21</td>\n      <td>Bunntrål</td>\n      <td>295</td>\n      <td>56,8</td>\n    </tr>\n    <tr>\n      <th>2</th>\n      <td>Torsk</td>\n      <td>8510.0</td>\n      <td>Bjørnøya</td>\n      <td>30.12.2017 23:21</td>\n      <td>Bunntrål</td>\n      <td>295</td>\n      <td>56,8</td>\n    </tr>\n    <tr>\n      <th>3</th>\n      <td>Blåkveite</td>\n      <td>196.0</td>\n      <td>Bjørnøya</td>\n      <td>30.12.2017 23:21</td>\n      <td>Bunntrål</td>\n      <td>295</td>\n      <td>56,8</td>\n    </tr>\n    <tr>\n      <th>4</th>\n      <td>Sei</td>\n      <td>134.0</td>\n      <td>Bjørnøya</td>\n      <td>30.12.2017 23:21</td>\n      <td>Bunntrål</td>\n      <td>295</td>\n      <td>56,8</td>\n    </tr>\n    <tr>\n      <th>...</th>\n      <td>...</td>\n      <td>...</td>\n      <td>...</td>\n      <td>...</td>\n      <td>...</td>\n      <td>...</td>\n      <td>...</td>\n    </tr>\n    <tr>\n      <th>305429</th>\n      <td>Gråsteinbit</td>\n      <td>145.0</td>\n      <td>Vest-Spitsbergen</td>\n      <td>31.12.2018 19:41</td>\n      <td>Bunntrål</td>\n      <td>232</td>\n      <td>57,3</td>\n    </tr>\n    <tr>\n      <th>305430</th>\n      <td>Uer (vanlig)</td>\n      <td>136.0</td>\n      <td>Vest-Spitsbergen</td>\n      <td>31.12.2018 19:41</td>\n      <td>Bunntrål</td>\n      <td>232</td>\n      <td>57,3</td>\n    </tr>\n    <tr>\n      <th>305431</th>\n      <td>Flekksteinbit</td>\n      <td>132.0</td>\n      <td>Vest-Spitsbergen</td>\n      <td>31.12.2018 19:41</td>\n      <td>Bunntrål</td>\n      <td>232</td>\n      <td>57,3</td>\n    </tr>\n    <tr>\n      <th>305432</th>\n      <td>Snabeluer</td>\n      <td>102.0</td>\n      <td>Vest-Spitsbergen</td>\n      <td>31.12.2018 19:41</td>\n      <td>Bunntrål</td>\n      <td>232</td>\n      <td>57,3</td>\n    </tr>\n    <tr>\n      <th>305433</th>\n      <td>Blåkveite</td>\n      <td>63.0</td>\n      <td>Vest-Spitsbergen</td>\n      <td>31.12.2018 19:41</td>\n      <td>Bunntrål</td>\n      <td>232</td>\n      <td>57,3</td>\n    </tr>\n  </tbody>\n</table>\n<p>305434 rows × 7 columns</p>\n</div>"
     },
     "execution_count": 111,
     "metadata": {},
     "output_type": "execute_result"
    }
   ],
   "source": [
    "df = df[['Art - FDIR','Rundvekt', 'Hovedområde start', 'Starttidspunkt', 'Redskap FDIR', 'Varighet', 'Fartøylengde', ]].copy()\n",
    "df"
   ],
   "metadata": {
    "collapsed": false,
    "ExecuteTime": {
     "end_time": "2024-02-22T23:17:49.194777300Z",
     "start_time": "2024-02-22T23:17:49.163669800Z"
    }
   },
   "id": "7615894e225185ea"
  },
  {
   "cell_type": "code",
   "execution_count": 112,
   "outputs": [
    {
     "data": {
      "text/plain": "Art - FDIR            object\nRundvekt             float64\nHovedområde start     object\nStarttidspunkt        object\nRedskap FDIR          object\nVarighet               int64\nFartøylengde          object\ndtype: object"
     },
     "execution_count": 112,
     "metadata": {},
     "output_type": "execute_result"
    }
   ],
   "source": [
    "df.dtypes"
   ],
   "metadata": {
    "collapsed": false,
    "ExecuteTime": {
     "end_time": "2024-02-22T23:17:49.239247900Z",
     "start_time": "2024-02-22T23:17:49.190982700Z"
    }
   },
   "id": "2ce867c4ec9fd063"
  },
  {
   "cell_type": "code",
   "execution_count": 113,
   "outputs": [],
   "source": [
    "df['Fartøylengde'] = pd.to_numeric(df['Fartøylengde'].str.replace(',', '.'))\n",
    "df['Starttidspunkt'] = pd.to_datetime(df['Starttidspunkt'], format='mixed')"
   ],
   "metadata": {
    "collapsed": false,
    "ExecuteTime": {
     "end_time": "2024-02-22T23:17:51.825499200Z",
     "start_time": "2024-02-22T23:17:49.194777300Z"
    }
   },
   "id": "56bca602c800cfbc"
  },
  {
   "cell_type": "code",
   "execution_count": 114,
   "outputs": [],
   "source": [
    "# Extract useful features from datetime column\n",
    "df['Year'] = df['Starttidspunkt'].dt.year\n",
    "df['Month'] = df['Starttidspunkt'].dt.month\n",
    "df['Day'] = df['Starttidspunkt'].dt.day\n",
    "df['Hour'] = df['Starttidspunkt'].dt.hour\n",
    "df['Minute'] = df['Starttidspunkt'].dt.minute\n",
    "\n",
    "# Drop the original datetime column\n",
    "df = df.drop(columns=[\"Starttidspunkt\"])"
   ],
   "metadata": {
    "collapsed": false,
    "ExecuteTime": {
     "end_time": "2024-02-22T23:17:51.870963Z",
     "start_time": "2024-02-22T23:17:51.826745900Z"
    }
   },
   "id": "f7f9007a037d1c23"
  },
  {
   "cell_type": "code",
   "execution_count": 115,
   "outputs": [
    {
     "data": {
      "text/plain": "Art - FDIR            object\nRundvekt             float64\nHovedområde start     object\nRedskap FDIR          object\nVarighet               int64\nFartøylengde         float64\nYear                   int32\nMonth                  int32\nDay                    int32\nHour                   int32\nMinute                 int32\ndtype: object"
     },
     "execution_count": 115,
     "metadata": {},
     "output_type": "execute_result"
    }
   ],
   "source": [
    "df.dtypes"
   ],
   "metadata": {
    "collapsed": false,
    "ExecuteTime": {
     "end_time": "2024-02-22T23:17:51.874837500Z",
     "start_time": "2024-02-22T23:17:51.870963Z"
    }
   },
   "id": "870b98e6261ab73c"
  },
  {
   "cell_type": "code",
   "execution_count": 116,
   "outputs": [
    {
     "name": "stdout",
     "output_type": "stream",
     "text": [
      "Art - FDIR           4982\n",
      "Rundvekt             4978\n",
      "Hovedområde start    4124\n",
      "Redskap FDIR          188\n",
      "Varighet                0\n",
      "Fartøylengde            0\n",
      "Year                    0\n",
      "Month                   0\n",
      "Day                     0\n",
      "Hour                    0\n",
      "Minute                  0\n",
      "dtype: int64\n"
     ]
    }
   ],
   "source": [
    "print(df.isnull().sum())"
   ],
   "metadata": {
    "collapsed": false,
    "ExecuteTime": {
     "end_time": "2024-02-22T23:17:51.904873600Z",
     "start_time": "2024-02-22T23:17:51.874837500Z"
    }
   },
   "id": "c75368bb0f63dd44"
  },
  {
   "cell_type": "code",
   "execution_count": 117,
   "outputs": [
    {
     "data": {
      "text/plain": "           Art - FDIR  Rundvekt Hovedområde start Redskap FDIR  Varighet  \\\n1                Hyse    9594.0          Bjørnøya     Bunntrål       295   \n2               Torsk    8510.0          Bjørnøya     Bunntrål       295   \n3           Blåkveite     196.0          Bjørnøya     Bunntrål       295   \n4                 Sei     134.0          Bjørnøya     Bunntrål       295   \n5                Hyse    9118.0          Bjørnøya     Bunntrål       267   \n...               ...       ...               ...          ...       ...   \n305429    Gråsteinbit     145.0  Vest-Spitsbergen     Bunntrål       232   \n305430   Uer (vanlig)     136.0  Vest-Spitsbergen     Bunntrål       232   \n305431  Flekksteinbit     132.0  Vest-Spitsbergen     Bunntrål       232   \n305432      Snabeluer     102.0  Vest-Spitsbergen     Bunntrål       232   \n305433      Blåkveite      63.0  Vest-Spitsbergen     Bunntrål       232   \n\n        Fartøylengde  Year  Month  Day  Hour  Minute  \n1               56.8  2017     12   30    23      21  \n2               56.8  2017     12   30    23      21  \n3               56.8  2017     12   30    23      21  \n4               56.8  2017     12   30    23      21  \n5               56.8  2017     12   31     5      48  \n...              ...   ...    ...  ...   ...     ...  \n305429          57.3  2018     12   31    19      41  \n305430          57.3  2018     12   31    19      41  \n305431          57.3  2018     12   31    19      41  \n305432          57.3  2018     12   31    19      41  \n305433          57.3  2018     12   31    19      41  \n\n[296477 rows x 11 columns]",
      "text/html": "<div>\n<style scoped>\n    .dataframe tbody tr th:only-of-type {\n        vertical-align: middle;\n    }\n\n    .dataframe tbody tr th {\n        vertical-align: top;\n    }\n\n    .dataframe thead th {\n        text-align: right;\n    }\n</style>\n<table border=\"1\" class=\"dataframe\">\n  <thead>\n    <tr style=\"text-align: right;\">\n      <th></th>\n      <th>Art - FDIR</th>\n      <th>Rundvekt</th>\n      <th>Hovedområde start</th>\n      <th>Redskap FDIR</th>\n      <th>Varighet</th>\n      <th>Fartøylengde</th>\n      <th>Year</th>\n      <th>Month</th>\n      <th>Day</th>\n      <th>Hour</th>\n      <th>Minute</th>\n    </tr>\n  </thead>\n  <tbody>\n    <tr>\n      <th>1</th>\n      <td>Hyse</td>\n      <td>9594.0</td>\n      <td>Bjørnøya</td>\n      <td>Bunntrål</td>\n      <td>295</td>\n      <td>56.8</td>\n      <td>2017</td>\n      <td>12</td>\n      <td>30</td>\n      <td>23</td>\n      <td>21</td>\n    </tr>\n    <tr>\n      <th>2</th>\n      <td>Torsk</td>\n      <td>8510.0</td>\n      <td>Bjørnøya</td>\n      <td>Bunntrål</td>\n      <td>295</td>\n      <td>56.8</td>\n      <td>2017</td>\n      <td>12</td>\n      <td>30</td>\n      <td>23</td>\n      <td>21</td>\n    </tr>\n    <tr>\n      <th>3</th>\n      <td>Blåkveite</td>\n      <td>196.0</td>\n      <td>Bjørnøya</td>\n      <td>Bunntrål</td>\n      <td>295</td>\n      <td>56.8</td>\n      <td>2017</td>\n      <td>12</td>\n      <td>30</td>\n      <td>23</td>\n      <td>21</td>\n    </tr>\n    <tr>\n      <th>4</th>\n      <td>Sei</td>\n      <td>134.0</td>\n      <td>Bjørnøya</td>\n      <td>Bunntrål</td>\n      <td>295</td>\n      <td>56.8</td>\n      <td>2017</td>\n      <td>12</td>\n      <td>30</td>\n      <td>23</td>\n      <td>21</td>\n    </tr>\n    <tr>\n      <th>5</th>\n      <td>Hyse</td>\n      <td>9118.0</td>\n      <td>Bjørnøya</td>\n      <td>Bunntrål</td>\n      <td>267</td>\n      <td>56.8</td>\n      <td>2017</td>\n      <td>12</td>\n      <td>31</td>\n      <td>5</td>\n      <td>48</td>\n    </tr>\n    <tr>\n      <th>...</th>\n      <td>...</td>\n      <td>...</td>\n      <td>...</td>\n      <td>...</td>\n      <td>...</td>\n      <td>...</td>\n      <td>...</td>\n      <td>...</td>\n      <td>...</td>\n      <td>...</td>\n      <td>...</td>\n    </tr>\n    <tr>\n      <th>305429</th>\n      <td>Gråsteinbit</td>\n      <td>145.0</td>\n      <td>Vest-Spitsbergen</td>\n      <td>Bunntrål</td>\n      <td>232</td>\n      <td>57.3</td>\n      <td>2018</td>\n      <td>12</td>\n      <td>31</td>\n      <td>19</td>\n      <td>41</td>\n    </tr>\n    <tr>\n      <th>305430</th>\n      <td>Uer (vanlig)</td>\n      <td>136.0</td>\n      <td>Vest-Spitsbergen</td>\n      <td>Bunntrål</td>\n      <td>232</td>\n      <td>57.3</td>\n      <td>2018</td>\n      <td>12</td>\n      <td>31</td>\n      <td>19</td>\n      <td>41</td>\n    </tr>\n    <tr>\n      <th>305431</th>\n      <td>Flekksteinbit</td>\n      <td>132.0</td>\n      <td>Vest-Spitsbergen</td>\n      <td>Bunntrål</td>\n      <td>232</td>\n      <td>57.3</td>\n      <td>2018</td>\n      <td>12</td>\n      <td>31</td>\n      <td>19</td>\n      <td>41</td>\n    </tr>\n    <tr>\n      <th>305432</th>\n      <td>Snabeluer</td>\n      <td>102.0</td>\n      <td>Vest-Spitsbergen</td>\n      <td>Bunntrål</td>\n      <td>232</td>\n      <td>57.3</td>\n      <td>2018</td>\n      <td>12</td>\n      <td>31</td>\n      <td>19</td>\n      <td>41</td>\n    </tr>\n    <tr>\n      <th>305433</th>\n      <td>Blåkveite</td>\n      <td>63.0</td>\n      <td>Vest-Spitsbergen</td>\n      <td>Bunntrål</td>\n      <td>232</td>\n      <td>57.3</td>\n      <td>2018</td>\n      <td>12</td>\n      <td>31</td>\n      <td>19</td>\n      <td>41</td>\n    </tr>\n  </tbody>\n</table>\n<p>296477 rows × 11 columns</p>\n</div>"
     },
     "execution_count": 117,
     "metadata": {},
     "output_type": "execute_result"
    }
   ],
   "source": [
    "df = df.dropna()\n",
    "df"
   ],
   "metadata": {
    "collapsed": false,
    "ExecuteTime": {
     "end_time": "2024-02-22T23:17:51.962953800Z",
     "start_time": "2024-02-22T23:17:51.900521200Z"
    }
   },
   "id": "8a8880071ffcde8f"
  },
  {
   "cell_type": "code",
   "execution_count": 118,
   "outputs": [],
   "source": [
    "df = pd.get_dummies(df)"
   ],
   "metadata": {
    "collapsed": false,
    "ExecuteTime": {
     "end_time": "2024-02-22T23:17:52.047973900Z",
     "start_time": "2024-02-22T23:17:51.943170100Z"
    }
   },
   "id": "8c7347f06c9a6efc"
  },
  {
   "cell_type": "code",
   "execution_count": 119,
   "outputs": [
    {
     "data": {
      "text/plain": "Rundvekt                          float64\nVarighet                            int64\nFartøylengde                      float64\nYear                                int32\nMonth                               int32\n                                   ...   \nRedskap FDIR_Snurpenot/ringnot       bool\nRedskap FDIR_Snurrevad               bool\nRedskap FDIR_Teiner                  bool\nRedskap FDIR_Udefinert garn          bool\nRedskap FDIR_Udefinert trål          bool\nLength: 197, dtype: object"
     },
     "execution_count": 119,
     "metadata": {},
     "output_type": "execute_result"
    }
   ],
   "source": [
    "df.dtypes"
   ],
   "metadata": {
    "collapsed": false,
    "ExecuteTime": {
     "end_time": "2024-02-22T23:17:52.047973900Z",
     "start_time": "2024-02-22T23:17:52.027224100Z"
    }
   },
   "id": "e693c83ba2050984"
  },
  {
   "cell_type": "code",
   "execution_count": 120,
   "outputs": [],
   "source": [
    "X = df.drop(['Rundvekt'], axis=1)\n",
    "y = df[['Rundvekt']]"
   ],
   "metadata": {
    "collapsed": false,
    "ExecuteTime": {
     "end_time": "2024-02-22T23:17:52.078824600Z",
     "start_time": "2024-02-22T23:17:52.030582100Z"
    }
   },
   "id": "3f369a6fb5796b7a"
  },
  {
   "cell_type": "code",
   "execution_count": 125,
   "outputs": [
    {
     "name": "stdout",
     "output_type": "stream",
     "text": [
      "Accuracy on training set: 0.593\n",
      "Accuracy on test set: 0.616\n"
     ]
    }
   ],
   "source": [
    "from sklearn.tree import DecisionTreeRegressor\n",
    "from sklearn.model_selection import train_test_split\n",
    "\n",
    "X_train, X_test, y_train, y_test = train_test_split(X, y, test_size=0.2, random_state=42)\n",
    "tree = DecisionTreeRegressor(max_depth=5, min_samples_leaf=5)\n",
    "tree.fit(X_train, y_train)\n",
    "print(\"Accuracy on training set: {:.3f}\".format(tree.score(X_train, y_train)))\n",
    "print(\"Accuracy on test set: {:.3f}\".format(tree.score(X_test, y_test)))"
   ],
   "metadata": {
    "collapsed": false,
    "ExecuteTime": {
     "end_time": "2024-02-22T23:18:24.015336700Z",
     "start_time": "2024-02-22T23:18:22.887152200Z"
    }
   },
   "id": "7573f0d435853296"
  }
 ],
 "metadata": {
  "kernelspec": {
   "name": "venv",
   "language": "python",
   "display_name": "venv"
  },
  "language_info": {
   "codemirror_mode": {
    "name": "ipython",
    "version": 2
   },
   "file_extension": ".py",
   "mimetype": "text/x-python",
   "name": "python",
   "nbconvert_exporter": "python",
   "pygments_lexer": "ipython2",
   "version": "2.7.6"
  }
 },
 "nbformat": 4,
 "nbformat_minor": 5
}
