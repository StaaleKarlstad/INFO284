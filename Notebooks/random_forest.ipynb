{
 "cells": [
  {
   "cell_type": "markdown",
   "source": [
    "# Fishing"
   ],
   "metadata": {
    "collapsed": false
   },
   "id": "216906d0d7843cd3"
  },
  {
   "cell_type": "markdown",
   "source": [
    "## Step 0 - Importing libraries and reading the data\n",
    "\n",
    "To start the project we need to import the most common libraries we will use for exploring the data"
   ],
   "metadata": {
    "collapsed": false
   },
   "id": "e4b1d3c8ba54dcab"
  },
  {
   "cell_type": "code",
   "execution_count": 1,
   "id": "initial_id",
   "metadata": {
    "collapsed": true,
    "ExecuteTime": {
     "end_time": "2024-03-07T13:24:14.235639Z",
     "start_time": "2024-03-07T13:24:14.207567Z"
    }
   },
   "outputs": [],
   "source": [
    "import pandas as pd\n",
    "import numpy as np\n",
    "import matplotlib.pyplot as plt\n",
    "import seaborn as sns"
   ]
  },
  {
   "cell_type": "code",
   "outputs": [],
   "source": [
    "df = pd.read_csv('../Resources/elektronisk-rapportering-ers-2018-fangstmelding-dca-simple.csv', delimiter=';')"
   ],
   "metadata": {
    "collapsed": false,
    "ExecuteTime": {
     "end_time": "2024-03-07T13:27:29.261943600Z",
     "start_time": "2024-03-07T13:27:24.313288500Z"
    }
   },
   "id": "18985faf1425b142",
   "execution_count": 7
  },
  {
   "cell_type": "markdown",
   "source": [
    "## Step 1 - Data understanding\n",
    "\n",
    "The initial step to machine learning is understanding the data we're working with. "
   ],
   "metadata": {
    "collapsed": false
   },
   "id": "bfaedbc884925f12"
  },
  {
   "cell_type": "code",
   "outputs": [
    {
     "data": {
      "text/plain": "(305434, 45)"
     },
     "execution_count": 8,
     "metadata": {},
     "output_type": "execute_result"
    }
   ],
   "source": [
    "df.shape"
   ],
   "metadata": {
    "collapsed": false,
    "ExecuteTime": {
     "end_time": "2024-03-07T13:27:32.332434500Z",
     "start_time": "2024-03-07T13:27:32.326191700Z"
    }
   },
   "id": "591b8c73564b3c12",
   "execution_count": 8
  },
  {
   "cell_type": "code",
   "outputs": [
    {
     "data": {
      "text/plain": "   Melding ID Meldingstidspunkt Meldingsdato Meldingsklokkeslett  \\\n0     1497177        01.01.2018   01.01.2018               00:00   \n1     1497178        01.01.2018   01.01.2018               00:00   \n2     1497178        01.01.2018   01.01.2018               00:00   \n3     1497178        01.01.2018   01.01.2018               00:00   \n4     1497178        01.01.2018   01.01.2018               00:00   \n\n     Starttidspunkt   Startdato Startklokkeslett Startposisjon bredde  \\\n0        31.12.2017  31.12.2017            00:00               -60,35   \n1  30.12.2017 23:21  30.12.2017            23:21               74,885   \n2  30.12.2017 23:21  30.12.2017            23:21               74,885   \n3  30.12.2017 23:21  30.12.2017            23:21               74,885   \n4  30.12.2017 23:21  30.12.2017            23:21               74,885   \n\n  Startposisjon lengde  Hovedområde start (kode)  ...        Art - FDIR  \\\n0              -46,133                       NaN  ...  Antarktisk krill   \n1               16,048                      20.0  ...              Hyse   \n2               16,048                      20.0  ...             Torsk   \n3               16,048                      20.0  ...         Blåkveite   \n4               16,048                      20.0  ...               Sei   \n\n   Art - gruppe (kode)      Art - gruppe  Rundvekt Lengdegruppe (kode)  \\\n0                506.0  Antarktisk krill  706714.0                 5.0   \n1                202.0              Hyse    9594.0                 5.0   \n2                201.0             Torsk    8510.0                 5.0   \n3                301.0         Blåkveite     196.0                 5.0   \n4                203.0               Sei     134.0                 5.0   \n\n   Lengdegruppe  Bruttotonnasje 1969  Bruttotonnasje annen Bredde Fartøylengde  \n0  28 m og over               9432.0                   NaN  19,87       133,88  \n1  28 m og over               1476.0                   NaN   12,6         56,8  \n2  28 m og over               1476.0                   NaN   12,6         56,8  \n3  28 m og over               1476.0                   NaN   12,6         56,8  \n4  28 m og over               1476.0                   NaN   12,6         56,8  \n\n[5 rows x 45 columns]",
      "text/html": "<div>\n<style scoped>\n    .dataframe tbody tr th:only-of-type {\n        vertical-align: middle;\n    }\n\n    .dataframe tbody tr th {\n        vertical-align: top;\n    }\n\n    .dataframe thead th {\n        text-align: right;\n    }\n</style>\n<table border=\"1\" class=\"dataframe\">\n  <thead>\n    <tr style=\"text-align: right;\">\n      <th></th>\n      <th>Melding ID</th>\n      <th>Meldingstidspunkt</th>\n      <th>Meldingsdato</th>\n      <th>Meldingsklokkeslett</th>\n      <th>Starttidspunkt</th>\n      <th>Startdato</th>\n      <th>Startklokkeslett</th>\n      <th>Startposisjon bredde</th>\n      <th>Startposisjon lengde</th>\n      <th>Hovedområde start (kode)</th>\n      <th>...</th>\n      <th>Art - FDIR</th>\n      <th>Art - gruppe (kode)</th>\n      <th>Art - gruppe</th>\n      <th>Rundvekt</th>\n      <th>Lengdegruppe (kode)</th>\n      <th>Lengdegruppe</th>\n      <th>Bruttotonnasje 1969</th>\n      <th>Bruttotonnasje annen</th>\n      <th>Bredde</th>\n      <th>Fartøylengde</th>\n    </tr>\n  </thead>\n  <tbody>\n    <tr>\n      <th>0</th>\n      <td>1497177</td>\n      <td>01.01.2018</td>\n      <td>01.01.2018</td>\n      <td>00:00</td>\n      <td>31.12.2017</td>\n      <td>31.12.2017</td>\n      <td>00:00</td>\n      <td>-60,35</td>\n      <td>-46,133</td>\n      <td>NaN</td>\n      <td>...</td>\n      <td>Antarktisk krill</td>\n      <td>506.0</td>\n      <td>Antarktisk krill</td>\n      <td>706714.0</td>\n      <td>5.0</td>\n      <td>28 m og over</td>\n      <td>9432.0</td>\n      <td>NaN</td>\n      <td>19,87</td>\n      <td>133,88</td>\n    </tr>\n    <tr>\n      <th>1</th>\n      <td>1497178</td>\n      <td>01.01.2018</td>\n      <td>01.01.2018</td>\n      <td>00:00</td>\n      <td>30.12.2017 23:21</td>\n      <td>30.12.2017</td>\n      <td>23:21</td>\n      <td>74,885</td>\n      <td>16,048</td>\n      <td>20.0</td>\n      <td>...</td>\n      <td>Hyse</td>\n      <td>202.0</td>\n      <td>Hyse</td>\n      <td>9594.0</td>\n      <td>5.0</td>\n      <td>28 m og over</td>\n      <td>1476.0</td>\n      <td>NaN</td>\n      <td>12,6</td>\n      <td>56,8</td>\n    </tr>\n    <tr>\n      <th>2</th>\n      <td>1497178</td>\n      <td>01.01.2018</td>\n      <td>01.01.2018</td>\n      <td>00:00</td>\n      <td>30.12.2017 23:21</td>\n      <td>30.12.2017</td>\n      <td>23:21</td>\n      <td>74,885</td>\n      <td>16,048</td>\n      <td>20.0</td>\n      <td>...</td>\n      <td>Torsk</td>\n      <td>201.0</td>\n      <td>Torsk</td>\n      <td>8510.0</td>\n      <td>5.0</td>\n      <td>28 m og over</td>\n      <td>1476.0</td>\n      <td>NaN</td>\n      <td>12,6</td>\n      <td>56,8</td>\n    </tr>\n    <tr>\n      <th>3</th>\n      <td>1497178</td>\n      <td>01.01.2018</td>\n      <td>01.01.2018</td>\n      <td>00:00</td>\n      <td>30.12.2017 23:21</td>\n      <td>30.12.2017</td>\n      <td>23:21</td>\n      <td>74,885</td>\n      <td>16,048</td>\n      <td>20.0</td>\n      <td>...</td>\n      <td>Blåkveite</td>\n      <td>301.0</td>\n      <td>Blåkveite</td>\n      <td>196.0</td>\n      <td>5.0</td>\n      <td>28 m og over</td>\n      <td>1476.0</td>\n      <td>NaN</td>\n      <td>12,6</td>\n      <td>56,8</td>\n    </tr>\n    <tr>\n      <th>4</th>\n      <td>1497178</td>\n      <td>01.01.2018</td>\n      <td>01.01.2018</td>\n      <td>00:00</td>\n      <td>30.12.2017 23:21</td>\n      <td>30.12.2017</td>\n      <td>23:21</td>\n      <td>74,885</td>\n      <td>16,048</td>\n      <td>20.0</td>\n      <td>...</td>\n      <td>Sei</td>\n      <td>203.0</td>\n      <td>Sei</td>\n      <td>134.0</td>\n      <td>5.0</td>\n      <td>28 m og over</td>\n      <td>1476.0</td>\n      <td>NaN</td>\n      <td>12,6</td>\n      <td>56,8</td>\n    </tr>\n  </tbody>\n</table>\n<p>5 rows × 45 columns</p>\n</div>"
     },
     "execution_count": 9,
     "metadata": {},
     "output_type": "execute_result"
    }
   ],
   "source": [
    "df.head(5)"
   ],
   "metadata": {
    "collapsed": false,
    "ExecuteTime": {
     "end_time": "2024-03-07T13:27:33.974560800Z",
     "start_time": "2024-03-07T13:27:33.936577900Z"
    }
   },
   "id": "3db6c08dc4ba10fd",
   "execution_count": 9
  },
  {
   "cell_type": "code",
   "outputs": [
    {
     "data": {
      "text/plain": "Index(['Melding ID', 'Meldingstidspunkt', 'Meldingsdato',\n       'Meldingsklokkeslett', 'Starttidspunkt', 'Startdato',\n       'Startklokkeslett', 'Startposisjon bredde', 'Startposisjon lengde',\n       'Hovedområde start (kode)', 'Hovedområde start',\n       'Lokasjon start (kode)', 'Havdybde start', 'Stopptidspunkt',\n       'Stoppdato', 'Stoppklokkeslett', 'Varighet', 'Fangstår',\n       'Stopposisjon bredde', 'Stopposisjon lengde',\n       'Hovedområde stopp (kode)', 'Hovedområde stopp',\n       'Lokasjon stopp (kode)', 'Havdybde stopp', 'Trekkavstand',\n       'Redskap FAO (kode)', 'Redskap FAO', 'Redskap FDIR (kode)',\n       'Redskap FDIR', 'Hovedart FAO (kode)', 'Hovedart FAO',\n       'Hovedart - FDIR (kode)', 'Art FAO (kode)', 'Art FAO',\n       'Art - FDIR (kode)', 'Art - FDIR', 'Art - gruppe (kode)',\n       'Art - gruppe', 'Rundvekt', 'Lengdegruppe (kode)', 'Lengdegruppe',\n       'Bruttotonnasje 1969', 'Bruttotonnasje annen', 'Bredde',\n       'Fartøylengde'],\n      dtype='object')"
     },
     "execution_count": 10,
     "metadata": {},
     "output_type": "execute_result"
    }
   ],
   "source": [
    "df.columns"
   ],
   "metadata": {
    "collapsed": false,
    "ExecuteTime": {
     "end_time": "2024-03-07T13:27:45.030462900Z",
     "start_time": "2024-03-07T13:27:45.017955300Z"
    }
   },
   "id": "cd2a7d758bc1db89",
   "execution_count": 10
  },
  {
   "cell_type": "code",
   "outputs": [
    {
     "data": {
      "text/plain": "Melding ID                    int64\nMeldingstidspunkt            object\nMeldingsdato                 object\nMeldingsklokkeslett          object\nStarttidspunkt               object\nStartdato                    object\nStartklokkeslett             object\nStartposisjon bredde         object\nStartposisjon lengde         object\nHovedområde start (kode)    float64\nHovedområde start            object\nLokasjon start (kode)       float64\nHavdybde start                int64\nStopptidspunkt               object\nStoppdato                    object\nStoppklokkeslett             object\nVarighet                      int64\nFangstår                      int64\nStopposisjon bredde          object\nStopposisjon lengde          object\nHovedområde stopp (kode)    float64\nHovedområde stopp            object\nLokasjon stopp (kode)       float64\nHavdybde stopp                int64\nTrekkavstand                float64\nRedskap FAO (kode)           object\nRedskap FAO                  object\nRedskap FDIR (kode)         float64\nRedskap FDIR                 object\nHovedart FAO (kode)          object\nHovedart FAO                 object\nHovedart - FDIR (kode)      float64\nArt FAO (kode)               object\nArt FAO                      object\nArt - FDIR (kode)           float64\nArt - FDIR                   object\nArt - gruppe (kode)         float64\nArt - gruppe                 object\nRundvekt                    float64\nLengdegruppe (kode)         float64\nLengdegruppe                 object\nBruttotonnasje 1969         float64\nBruttotonnasje annen        float64\nBredde                       object\nFartøylengde                 object\ndtype: object"
     },
     "execution_count": 11,
     "metadata": {},
     "output_type": "execute_result"
    }
   ],
   "source": [
    "df.dtypes"
   ],
   "metadata": {
    "collapsed": false,
    "ExecuteTime": {
     "end_time": "2024-03-07T13:27:56.201321Z",
     "start_time": "2024-03-07T13:27:56.163720100Z"
    }
   },
   "id": "77acd2d361c4a3ce",
   "execution_count": 11
  },
  {
   "cell_type": "code",
   "outputs": [
    {
     "data": {
      "text/plain": "         Melding ID  Hovedområde start (kode)  Lokasjon start (kode)  \\\ncount  3.054340e+05             303433.000000          303433.000000   \nmean   1.658783e+06                 14.463737              19.074712   \nstd    9.130738e+04                 13.001244              18.469340   \nmin    1.497177e+06                  0.000000               0.000000   \n25%    1.567228e+06                  5.000000               7.000000   \n50%    1.674230e+06                  8.000000              12.000000   \n75%    1.735590e+06                 20.000000              24.000000   \nmax    1.800291e+06                 81.000000              87.000000   \n\n       Havdybde start       Varighet       Fangstår  Hovedområde stopp (kode)  \\\ncount   305434.000000  305434.000000  305434.000000             303472.000000   \nmean      -228.025292     537.095526    2017.999941                 14.430415   \nstd        226.062493    2201.624688       0.007677                 12.973150   \nmin      -5388.000000       0.000000    2017.000000                  0.000000   \n25%       -273.000000     123.000000    2018.000000                  5.000000   \n50%       -196.000000     296.000000    2018.000000                  8.000000   \n75%       -128.000000     494.000000    2018.000000                 20.000000   \nmax       1220.000000  125534.000000    2018.000000                 81.000000   \n\n       Lokasjon stopp (kode)  Havdybde stopp  Trekkavstand  \\\ncount          303472.000000   305434.000000  3.054100e+05   \nmean               18.883353     -229.084850  1.566397e+04   \nstd                18.361244      224.277365  9.033085e+04   \nmin                 0.000000    -5388.000000  0.000000e+00   \n25%                 7.000000     -274.000000  2.533000e+03   \n50%                12.000000     -198.000000  7.598000e+03   \n75%                24.000000     -127.000000  2.259900e+04   \nmax                87.000000     1616.000000  1.588863e+07   \n\n       Redskap FDIR (kode)  Hovedart - FDIR (kode)  Art - FDIR (kode)  \\\ncount        305246.000000           300456.000000      300452.000000   \nmean             46.489746             1326.729934        1414.625914   \nstd              13.534202              614.506560         633.188386   \nmin              11.000000              412.000000         211.000000   \n25%              32.000000             1022.000000        1022.000000   \n50%              51.000000             1032.000000        1032.000000   \n75%              55.000000             1038.000000        2202.000000   \nmax              80.000000             6619.000000        6619.000000   \n\n       Art - gruppe (kode)      Rundvekt  Lengdegruppe (kode)  \\\ncount        300452.000000  3.004560e+05        304750.000000   \nmean            259.746585  7.438208e+03             4.575032   \nstd             320.124913  4.281086e+04             0.692769   \nmin             101.000000  0.000000e+00             3.000000   \n25%             201.000000  6.400000e+01             4.000000   \n50%             203.000000  3.000000e+02             5.000000   \n75%             302.000000  2.236000e+03             5.000000   \nmax            9903.000000  1.100000e+06             5.000000   \n\n       Bruttotonnasje 1969  Bruttotonnasje annen  \ncount        234005.000000          74774.000000  \nmean           1408.386975            186.172573  \nstd            1148.384145            165.761157  \nmin             104.000000             21.000000  \n25%             496.000000             87.000000  \n50%            1184.000000            149.000000  \n75%            2053.000000            236.000000  \nmax            9432.000000           1147.000000  ",
      "text/html": "<div>\n<style scoped>\n    .dataframe tbody tr th:only-of-type {\n        vertical-align: middle;\n    }\n\n    .dataframe tbody tr th {\n        vertical-align: top;\n    }\n\n    .dataframe thead th {\n        text-align: right;\n    }\n</style>\n<table border=\"1\" class=\"dataframe\">\n  <thead>\n    <tr style=\"text-align: right;\">\n      <th></th>\n      <th>Melding ID</th>\n      <th>Hovedområde start (kode)</th>\n      <th>Lokasjon start (kode)</th>\n      <th>Havdybde start</th>\n      <th>Varighet</th>\n      <th>Fangstår</th>\n      <th>Hovedområde stopp (kode)</th>\n      <th>Lokasjon stopp (kode)</th>\n      <th>Havdybde stopp</th>\n      <th>Trekkavstand</th>\n      <th>Redskap FDIR (kode)</th>\n      <th>Hovedart - FDIR (kode)</th>\n      <th>Art - FDIR (kode)</th>\n      <th>Art - gruppe (kode)</th>\n      <th>Rundvekt</th>\n      <th>Lengdegruppe (kode)</th>\n      <th>Bruttotonnasje 1969</th>\n      <th>Bruttotonnasje annen</th>\n    </tr>\n  </thead>\n  <tbody>\n    <tr>\n      <th>count</th>\n      <td>3.054340e+05</td>\n      <td>303433.000000</td>\n      <td>303433.000000</td>\n      <td>305434.000000</td>\n      <td>305434.000000</td>\n      <td>305434.000000</td>\n      <td>303472.000000</td>\n      <td>303472.000000</td>\n      <td>305434.000000</td>\n      <td>3.054100e+05</td>\n      <td>305246.000000</td>\n      <td>300456.000000</td>\n      <td>300452.000000</td>\n      <td>300452.000000</td>\n      <td>3.004560e+05</td>\n      <td>304750.000000</td>\n      <td>234005.000000</td>\n      <td>74774.000000</td>\n    </tr>\n    <tr>\n      <th>mean</th>\n      <td>1.658783e+06</td>\n      <td>14.463737</td>\n      <td>19.074712</td>\n      <td>-228.025292</td>\n      <td>537.095526</td>\n      <td>2017.999941</td>\n      <td>14.430415</td>\n      <td>18.883353</td>\n      <td>-229.084850</td>\n      <td>1.566397e+04</td>\n      <td>46.489746</td>\n      <td>1326.729934</td>\n      <td>1414.625914</td>\n      <td>259.746585</td>\n      <td>7.438208e+03</td>\n      <td>4.575032</td>\n      <td>1408.386975</td>\n      <td>186.172573</td>\n    </tr>\n    <tr>\n      <th>std</th>\n      <td>9.130738e+04</td>\n      <td>13.001244</td>\n      <td>18.469340</td>\n      <td>226.062493</td>\n      <td>2201.624688</td>\n      <td>0.007677</td>\n      <td>12.973150</td>\n      <td>18.361244</td>\n      <td>224.277365</td>\n      <td>9.033085e+04</td>\n      <td>13.534202</td>\n      <td>614.506560</td>\n      <td>633.188386</td>\n      <td>320.124913</td>\n      <td>4.281086e+04</td>\n      <td>0.692769</td>\n      <td>1148.384145</td>\n      <td>165.761157</td>\n    </tr>\n    <tr>\n      <th>min</th>\n      <td>1.497177e+06</td>\n      <td>0.000000</td>\n      <td>0.000000</td>\n      <td>-5388.000000</td>\n      <td>0.000000</td>\n      <td>2017.000000</td>\n      <td>0.000000</td>\n      <td>0.000000</td>\n      <td>-5388.000000</td>\n      <td>0.000000e+00</td>\n      <td>11.000000</td>\n      <td>412.000000</td>\n      <td>211.000000</td>\n      <td>101.000000</td>\n      <td>0.000000e+00</td>\n      <td>3.000000</td>\n      <td>104.000000</td>\n      <td>21.000000</td>\n    </tr>\n    <tr>\n      <th>25%</th>\n      <td>1.567228e+06</td>\n      <td>5.000000</td>\n      <td>7.000000</td>\n      <td>-273.000000</td>\n      <td>123.000000</td>\n      <td>2018.000000</td>\n      <td>5.000000</td>\n      <td>7.000000</td>\n      <td>-274.000000</td>\n      <td>2.533000e+03</td>\n      <td>32.000000</td>\n      <td>1022.000000</td>\n      <td>1022.000000</td>\n      <td>201.000000</td>\n      <td>6.400000e+01</td>\n      <td>4.000000</td>\n      <td>496.000000</td>\n      <td>87.000000</td>\n    </tr>\n    <tr>\n      <th>50%</th>\n      <td>1.674230e+06</td>\n      <td>8.000000</td>\n      <td>12.000000</td>\n      <td>-196.000000</td>\n      <td>296.000000</td>\n      <td>2018.000000</td>\n      <td>8.000000</td>\n      <td>12.000000</td>\n      <td>-198.000000</td>\n      <td>7.598000e+03</td>\n      <td>51.000000</td>\n      <td>1032.000000</td>\n      <td>1032.000000</td>\n      <td>203.000000</td>\n      <td>3.000000e+02</td>\n      <td>5.000000</td>\n      <td>1184.000000</td>\n      <td>149.000000</td>\n    </tr>\n    <tr>\n      <th>75%</th>\n      <td>1.735590e+06</td>\n      <td>20.000000</td>\n      <td>24.000000</td>\n      <td>-128.000000</td>\n      <td>494.000000</td>\n      <td>2018.000000</td>\n      <td>20.000000</td>\n      <td>24.000000</td>\n      <td>-127.000000</td>\n      <td>2.259900e+04</td>\n      <td>55.000000</td>\n      <td>1038.000000</td>\n      <td>2202.000000</td>\n      <td>302.000000</td>\n      <td>2.236000e+03</td>\n      <td>5.000000</td>\n      <td>2053.000000</td>\n      <td>236.000000</td>\n    </tr>\n    <tr>\n      <th>max</th>\n      <td>1.800291e+06</td>\n      <td>81.000000</td>\n      <td>87.000000</td>\n      <td>1220.000000</td>\n      <td>125534.000000</td>\n      <td>2018.000000</td>\n      <td>81.000000</td>\n      <td>87.000000</td>\n      <td>1616.000000</td>\n      <td>1.588863e+07</td>\n      <td>80.000000</td>\n      <td>6619.000000</td>\n      <td>6619.000000</td>\n      <td>9903.000000</td>\n      <td>1.100000e+06</td>\n      <td>5.000000</td>\n      <td>9432.000000</td>\n      <td>1147.000000</td>\n    </tr>\n  </tbody>\n</table>\n</div>"
     },
     "execution_count": 12,
     "metadata": {},
     "output_type": "execute_result"
    }
   ],
   "source": [
    "df.describe()"
   ],
   "metadata": {
    "collapsed": false,
    "ExecuteTime": {
     "end_time": "2024-03-07T13:28:07.347492900Z",
     "start_time": "2024-03-07T13:28:06.429553500Z"
    }
   },
   "id": "7cf0273a1a1adbe",
   "execution_count": 12
  },
  {
   "cell_type": "markdown",
   "source": [
    "# Step 2 - Data preparation"
   ],
   "metadata": {
    "collapsed": false
   },
   "id": "92437f4166a20a7e"
  },
  {
   "cell_type": "code",
   "outputs": [],
   "source": [
    "df = df[[\n",
    "    'Starttidspunkt','Startposisjon bredde', 'Startposisjon lengde', 'Hovedområde start',\n",
    "    'Havdybde start', 'Stopptidspunkt', 'Varighet', 'Fangstår', 'Stopposisjon bredde', \n",
    "    'Stopposisjon lengde', 'Hovedområde stopp', 'Havdybde stopp', 'Trekkavstand', 'Redskap FDIR',\n",
    "    'Art FAO', 'Art - gruppe', 'Rundvekt', 'Bruttotonnasje annen', \n",
    "    'Bruttotonnasje 1969', 'Bredde', 'Fartøylengde'\n",
    "    ]].copy()"
   ],
   "metadata": {
    "collapsed": false,
    "ExecuteTime": {
     "end_time": "2024-03-07T13:31:25.323323900Z",
     "start_time": "2024-03-07T13:31:25.184435200Z"
    }
   },
   "id": "13ef7b6ef0f7520a",
   "execution_count": 13
  },
  {
   "cell_type": "code",
   "outputs": [],
   "source": [
    "df['Starttidspunkt'] = pd.to_datetime(df['Starttidspunkt'], format='mixed')\n",
    "df['Stopptidspunkt'] = pd.to_datetime(df['Stopptidspunkt'], format='mixed')\n",
    "\n",
    "df['Fartøylengde'] = pd.to_numeric(df['Fartøylengde'].str.replace(',', '.'))\n",
    "df['Bredde'] = pd.to_numeric(df['Bredde'].str.replace(',', '.'))\n",
    "\n",
    "df['Startposisjon bredde'] = pd.to_numeric(df['Startposisjon bredde'].str.replace(',', '.'))\n",
    "df['Startposisjon lengde'] = pd.to_numeric(df['Startposisjon lengde'].str.replace(',', '.'))"
   ],
   "metadata": {
    "collapsed": false,
    "ExecuteTime": {
     "end_time": "2024-03-07T13:32:01.866916300Z",
     "start_time": "2024-03-07T13:31:42.887143900Z"
    }
   },
   "id": "668ce708af0a8771",
   "execution_count": 14
  },
  {
   "cell_type": "code",
   "outputs": [
    {
     "data": {
      "text/plain": "Starttidspunkt               0\nStartposisjon bredde         0\nStartposisjon lengde         0\nHovedområde start         4124\nHavdybde start               0\nStopptidspunkt               0\nVarighet                     0\nFangstår                     0\nStopposisjon bredde          0\nStopposisjon lengde          0\nHovedområde stopp         4124\nHavdybde stopp               0\nTrekkavstand                24\nRedskap FDIR               188\nArt FAO                   4982\nArt - gruppe              4982\nRundvekt                  4978\nBruttotonnasje annen    230660\nBruttotonnasje 1969      71429\nBredde                     684\nFartøylengde                 0\ndtype: int64"
     },
     "execution_count": 15,
     "metadata": {},
     "output_type": "execute_result"
    }
   ],
   "source": [
    "df.isna().sum()"
   ],
   "metadata": {
    "collapsed": false,
    "ExecuteTime": {
     "end_time": "2024-03-07T13:36:22.854674200Z",
     "start_time": "2024-03-07T13:36:22.576648600Z"
    }
   },
   "id": "3c16734dea6c7996",
   "execution_count": 15
  },
  {
   "cell_type": "code",
   "outputs": [
    {
     "data": {
      "text/plain": "            Starttidspunkt  Startposisjon bredde  Startposisjon lengde  \\\n6338   2018-10-01 11:57:00                70.762                30.007   \n39762  2018-02-15 21:04:00                66.350               -16.850   \n40910  2018-02-16 04:06:00                57.997                 5.575   \n45207  2018-02-20 08:14:00                68.910                15.076   \n45208  2018-02-20 08:14:00                68.910                15.076   \n...                    ...                   ...                   ...   \n292004 2018-05-12 03:00:00                71.530                28.301   \n292005 2018-05-12 03:00:00                71.530                28.301   \n292006 2018-05-12 03:00:00                71.530                28.301   \n292007 2018-05-12 03:00:00                71.530                28.301   \n297418 2018-12-12 10:13:00                58.817                -0.067   \n\n        Hovedområde start  Havdybde start      Stopptidspunkt  Varighet  \\\n6338         Øst-Finnmark             -77 2018-10-01 16:27:00       270   \n39762   Nordøst av Island            -220 2018-02-15 21:07:00         3   \n40910     Eigersundbanken            -242 2018-02-16 19:45:00       939   \n45207                 NaN              31 2018-02-20 10:02:00       108   \n45208                 NaN              31 2018-02-20 10:02:00       108   \n...                   ...             ...                 ...       ...   \n292004       Øst-Finnmark            -352 2018-05-12 19:19:00       979   \n292005       Øst-Finnmark            -352 2018-05-12 19:19:00       979   \n292006       Øst-Finnmark            -352 2018-05-12 19:19:00       979   \n292007       Øst-Finnmark            -352 2018-05-12 19:19:00       979   \n297418           Shetland            -140 2018-12-12 10:13:00         0   \n\n        Fangstår Stopposisjon bredde Stopposisjon lengde  ... Havdybde stopp  \\\n6338        2018              70,635              29,729  ...              1   \n39762       2018               66,35              -16,85  ...           -220   \n40910       2018              57,861               5,896  ...           -249   \n45207       2018               68,91              15,076  ...             31   \n45208       2018               68,91              15,076  ...             31   \n...          ...                 ...                 ...  ...            ...   \n292004      2018               71,53              28,305  ...           -352   \n292005      2018               71,53              28,305  ...           -352   \n292006      2018               71,53              28,305  ...           -352   \n292007      2018               71,53              28,305  ...           -352   \n297418      2018              58,817              -0,067  ...           -140   \n\n        Trekkavstand       Redskap FDIR               Art FAO  \\\n6338         17494.0          Snurrevad                   NaN   \n39762            0.0  Snurpenot/ringnot                   NaN   \n40910        24314.0           Reketrål          Dypvannsreke   \n45207            0.0          Snurrevad                 Torsk   \n45208            0.0          Snurrevad                   Sei   \n...              ...                ...                   ...   \n292004         141.0        Andre liner  Annen skate og rokke   \n292005         141.0        Andre liner         Flekksteinbit   \n292006         141.0        Andre liner                Brosme   \n292007         141.0        Andre liner             Blåkveite   \n297418           0.0           Bunntrål                   NaN   \n\n                     Art - gruppe Rundvekt  Bruttotonnasje annen  \\\n6338                          NaN      NaN                   NaN   \n39762                         NaN      NaN                   NaN   \n40910                Dypvannsreke    520.0                 121.0   \n45207                       Torsk    340.0                 173.0   \n45208                         Sei    300.0                 173.0   \n...                           ...      ...                   ...   \n292004  Skater og annen bruskfisk    400.0                  48.0   \n292005                 Steinbiter     20.0                  48.0   \n292006           Annen torskefisk     20.0                  48.0   \n292007                  Blåkveite     10.0                  48.0   \n297418                        NaN      NaN                   NaN   \n\n        Bruttotonnasje 1969  Bredde  Fartøylengde  \n6338                  498.0     9.6         34.85  \n39762                2832.0    15.2         74.20  \n40910                   NaN     7.0         19.90  \n45207                   NaN     6.7         27.47  \n45208                   NaN     6.7         27.47  \n...                     ...     ...           ...  \n292004                  NaN     5.5         15.01  \n292005                  NaN     5.5         15.01  \n292006                  NaN     5.5         15.01  \n292007                  NaN     5.5         15.01  \n297418                474.0     8.6         39.48  \n\n[81 rows x 21 columns]",
      "text/html": "<div>\n<style scoped>\n    .dataframe tbody tr th:only-of-type {\n        vertical-align: middle;\n    }\n\n    .dataframe tbody tr th {\n        vertical-align: top;\n    }\n\n    .dataframe thead th {\n        text-align: right;\n    }\n</style>\n<table border=\"1\" class=\"dataframe\">\n  <thead>\n    <tr style=\"text-align: right;\">\n      <th></th>\n      <th>Starttidspunkt</th>\n      <th>Startposisjon bredde</th>\n      <th>Startposisjon lengde</th>\n      <th>Hovedområde start</th>\n      <th>Havdybde start</th>\n      <th>Stopptidspunkt</th>\n      <th>Varighet</th>\n      <th>Fangstår</th>\n      <th>Stopposisjon bredde</th>\n      <th>Stopposisjon lengde</th>\n      <th>...</th>\n      <th>Havdybde stopp</th>\n      <th>Trekkavstand</th>\n      <th>Redskap FDIR</th>\n      <th>Art FAO</th>\n      <th>Art - gruppe</th>\n      <th>Rundvekt</th>\n      <th>Bruttotonnasje annen</th>\n      <th>Bruttotonnasje 1969</th>\n      <th>Bredde</th>\n      <th>Fartøylengde</th>\n    </tr>\n  </thead>\n  <tbody>\n    <tr>\n      <th>6338</th>\n      <td>2018-10-01 11:57:00</td>\n      <td>70.762</td>\n      <td>30.007</td>\n      <td>Øst-Finnmark</td>\n      <td>-77</td>\n      <td>2018-10-01 16:27:00</td>\n      <td>270</td>\n      <td>2018</td>\n      <td>70,635</td>\n      <td>29,729</td>\n      <td>...</td>\n      <td>1</td>\n      <td>17494.0</td>\n      <td>Snurrevad</td>\n      <td>NaN</td>\n      <td>NaN</td>\n      <td>NaN</td>\n      <td>NaN</td>\n      <td>498.0</td>\n      <td>9.6</td>\n      <td>34.85</td>\n    </tr>\n    <tr>\n      <th>39762</th>\n      <td>2018-02-15 21:04:00</td>\n      <td>66.350</td>\n      <td>-16.850</td>\n      <td>Nordøst av Island</td>\n      <td>-220</td>\n      <td>2018-02-15 21:07:00</td>\n      <td>3</td>\n      <td>2018</td>\n      <td>66,35</td>\n      <td>-16,85</td>\n      <td>...</td>\n      <td>-220</td>\n      <td>0.0</td>\n      <td>Snurpenot/ringnot</td>\n      <td>NaN</td>\n      <td>NaN</td>\n      <td>NaN</td>\n      <td>NaN</td>\n      <td>2832.0</td>\n      <td>15.2</td>\n      <td>74.20</td>\n    </tr>\n    <tr>\n      <th>40910</th>\n      <td>2018-02-16 04:06:00</td>\n      <td>57.997</td>\n      <td>5.575</td>\n      <td>Eigersundbanken</td>\n      <td>-242</td>\n      <td>2018-02-16 19:45:00</td>\n      <td>939</td>\n      <td>2018</td>\n      <td>57,861</td>\n      <td>5,896</td>\n      <td>...</td>\n      <td>-249</td>\n      <td>24314.0</td>\n      <td>Reketrål</td>\n      <td>Dypvannsreke</td>\n      <td>Dypvannsreke</td>\n      <td>520.0</td>\n      <td>121.0</td>\n      <td>NaN</td>\n      <td>7.0</td>\n      <td>19.90</td>\n    </tr>\n    <tr>\n      <th>45207</th>\n      <td>2018-02-20 08:14:00</td>\n      <td>68.910</td>\n      <td>15.076</td>\n      <td>NaN</td>\n      <td>31</td>\n      <td>2018-02-20 10:02:00</td>\n      <td>108</td>\n      <td>2018</td>\n      <td>68,91</td>\n      <td>15,076</td>\n      <td>...</td>\n      <td>31</td>\n      <td>0.0</td>\n      <td>Snurrevad</td>\n      <td>Torsk</td>\n      <td>Torsk</td>\n      <td>340.0</td>\n      <td>173.0</td>\n      <td>NaN</td>\n      <td>6.7</td>\n      <td>27.47</td>\n    </tr>\n    <tr>\n      <th>45208</th>\n      <td>2018-02-20 08:14:00</td>\n      <td>68.910</td>\n      <td>15.076</td>\n      <td>NaN</td>\n      <td>31</td>\n      <td>2018-02-20 10:02:00</td>\n      <td>108</td>\n      <td>2018</td>\n      <td>68,91</td>\n      <td>15,076</td>\n      <td>...</td>\n      <td>31</td>\n      <td>0.0</td>\n      <td>Snurrevad</td>\n      <td>Sei</td>\n      <td>Sei</td>\n      <td>300.0</td>\n      <td>173.0</td>\n      <td>NaN</td>\n      <td>6.7</td>\n      <td>27.47</td>\n    </tr>\n    <tr>\n      <th>...</th>\n      <td>...</td>\n      <td>...</td>\n      <td>...</td>\n      <td>...</td>\n      <td>...</td>\n      <td>...</td>\n      <td>...</td>\n      <td>...</td>\n      <td>...</td>\n      <td>...</td>\n      <td>...</td>\n      <td>...</td>\n      <td>...</td>\n      <td>...</td>\n      <td>...</td>\n      <td>...</td>\n      <td>...</td>\n      <td>...</td>\n      <td>...</td>\n      <td>...</td>\n      <td>...</td>\n    </tr>\n    <tr>\n      <th>292004</th>\n      <td>2018-05-12 03:00:00</td>\n      <td>71.530</td>\n      <td>28.301</td>\n      <td>Øst-Finnmark</td>\n      <td>-352</td>\n      <td>2018-05-12 19:19:00</td>\n      <td>979</td>\n      <td>2018</td>\n      <td>71,53</td>\n      <td>28,305</td>\n      <td>...</td>\n      <td>-352</td>\n      <td>141.0</td>\n      <td>Andre liner</td>\n      <td>Annen skate og rokke</td>\n      <td>Skater og annen bruskfisk</td>\n      <td>400.0</td>\n      <td>48.0</td>\n      <td>NaN</td>\n      <td>5.5</td>\n      <td>15.01</td>\n    </tr>\n    <tr>\n      <th>292005</th>\n      <td>2018-05-12 03:00:00</td>\n      <td>71.530</td>\n      <td>28.301</td>\n      <td>Øst-Finnmark</td>\n      <td>-352</td>\n      <td>2018-05-12 19:19:00</td>\n      <td>979</td>\n      <td>2018</td>\n      <td>71,53</td>\n      <td>28,305</td>\n      <td>...</td>\n      <td>-352</td>\n      <td>141.0</td>\n      <td>Andre liner</td>\n      <td>Flekksteinbit</td>\n      <td>Steinbiter</td>\n      <td>20.0</td>\n      <td>48.0</td>\n      <td>NaN</td>\n      <td>5.5</td>\n      <td>15.01</td>\n    </tr>\n    <tr>\n      <th>292006</th>\n      <td>2018-05-12 03:00:00</td>\n      <td>71.530</td>\n      <td>28.301</td>\n      <td>Øst-Finnmark</td>\n      <td>-352</td>\n      <td>2018-05-12 19:19:00</td>\n      <td>979</td>\n      <td>2018</td>\n      <td>71,53</td>\n      <td>28,305</td>\n      <td>...</td>\n      <td>-352</td>\n      <td>141.0</td>\n      <td>Andre liner</td>\n      <td>Brosme</td>\n      <td>Annen torskefisk</td>\n      <td>20.0</td>\n      <td>48.0</td>\n      <td>NaN</td>\n      <td>5.5</td>\n      <td>15.01</td>\n    </tr>\n    <tr>\n      <th>292007</th>\n      <td>2018-05-12 03:00:00</td>\n      <td>71.530</td>\n      <td>28.301</td>\n      <td>Øst-Finnmark</td>\n      <td>-352</td>\n      <td>2018-05-12 19:19:00</td>\n      <td>979</td>\n      <td>2018</td>\n      <td>71,53</td>\n      <td>28,305</td>\n      <td>...</td>\n      <td>-352</td>\n      <td>141.0</td>\n      <td>Andre liner</td>\n      <td>Blåkveite</td>\n      <td>Blåkveite</td>\n      <td>10.0</td>\n      <td>48.0</td>\n      <td>NaN</td>\n      <td>5.5</td>\n      <td>15.01</td>\n    </tr>\n    <tr>\n      <th>297418</th>\n      <td>2018-12-12 10:13:00</td>\n      <td>58.817</td>\n      <td>-0.067</td>\n      <td>Shetland</td>\n      <td>-140</td>\n      <td>2018-12-12 10:13:00</td>\n      <td>0</td>\n      <td>2018</td>\n      <td>58,817</td>\n      <td>-0,067</td>\n      <td>...</td>\n      <td>-140</td>\n      <td>0.0</td>\n      <td>Bunntrål</td>\n      <td>NaN</td>\n      <td>NaN</td>\n      <td>NaN</td>\n      <td>NaN</td>\n      <td>474.0</td>\n      <td>8.6</td>\n      <td>39.48</td>\n    </tr>\n  </tbody>\n</table>\n<p>81 rows × 21 columns</p>\n</div>"
     },
     "execution_count": 20,
     "metadata": {},
     "output_type": "execute_result"
    }
   ],
   "source": [
    "df.loc[df.duplicated()]"
   ],
   "metadata": {
    "collapsed": false,
    "ExecuteTime": {
     "end_time": "2024-03-07T13:55:18.492409500Z",
     "start_time": "2024-03-07T13:55:17.236847600Z"
    }
   },
   "id": "7d4257290b34f854",
   "execution_count": 20
  },
  {
   "cell_type": "code",
   "outputs": [
    {
     "data": {
      "text/plain": "        Starttidspunkt  Startposisjon bredde  Startposisjon lengde  \\\n5  2017-12-31 05:48:00                74.910                15.868   \n6  2017-12-31 05:48:00                74.910                15.868   \n7  2017-12-31 05:48:00                74.910                15.868   \n9  2017-12-31 05:48:00                74.910                15.868   \n11 2017-12-31 11:34:00                74.883                16.056   \n\n   Hovedområde start  Havdybde start      Stopptidspunkt  Varighet  Fangstår  \\\n5           Bjørnøya            -403 2017-12-31 10:15:00       267      2017   \n6           Bjørnøya            -403 2017-12-31 10:15:00       267      2017   \n7           Bjørnøya            -403 2017-12-31 10:15:00       267      2017   \n9           Bjørnøya            -403 2017-12-31 10:15:00       267      2017   \n11          Bjørnøya            -346 2017-12-31 16:49:00       315      2017   \n\n   Stopposisjon bredde Stopposisjon lengde  ... Havdybde stopp  Trekkavstand  \\\n5               74,901              16,248  ...           -277       11096.0   \n6               74,901              16,248  ...           -277       11096.0   \n7               74,901              16,248  ...           -277       11096.0   \n9               74,901              16,248  ...           -277       11096.0   \n11              74,924              15,742  ...           -496       10215.0   \n\n    Redskap FDIR    Art FAO Art - gruppe Rundvekt  Bruttotonnasje annen  \\\n5       Bunntrål       Hyse         Hyse   9118.0                   NaN   \n6       Bunntrål      Torsk        Torsk   6651.0                   NaN   \n7       Bunntrål  Blåkveite    Blåkveite    130.0                   NaN   \n9       Bunntrål        Sei          Sei     67.0                   NaN   \n11      Bunntrål       Hyse         Hyse  12432.0                   NaN   \n\n    Bruttotonnasje 1969  Bredde  Fartøylengde  \n5                1476.0    12.6          56.8  \n6                1476.0    12.6          56.8  \n7                1476.0    12.6          56.8  \n9                1476.0    12.6          56.8  \n11               1476.0    12.6          56.8  \n\n[5 rows x 21 columns]",
      "text/html": "<div>\n<style scoped>\n    .dataframe tbody tr th:only-of-type {\n        vertical-align: middle;\n    }\n\n    .dataframe tbody tr th {\n        vertical-align: top;\n    }\n\n    .dataframe thead th {\n        text-align: right;\n    }\n</style>\n<table border=\"1\" class=\"dataframe\">\n  <thead>\n    <tr style=\"text-align: right;\">\n      <th></th>\n      <th>Starttidspunkt</th>\n      <th>Startposisjon bredde</th>\n      <th>Startposisjon lengde</th>\n      <th>Hovedområde start</th>\n      <th>Havdybde start</th>\n      <th>Stopptidspunkt</th>\n      <th>Varighet</th>\n      <th>Fangstår</th>\n      <th>Stopposisjon bredde</th>\n      <th>Stopposisjon lengde</th>\n      <th>...</th>\n      <th>Havdybde stopp</th>\n      <th>Trekkavstand</th>\n      <th>Redskap FDIR</th>\n      <th>Art FAO</th>\n      <th>Art - gruppe</th>\n      <th>Rundvekt</th>\n      <th>Bruttotonnasje annen</th>\n      <th>Bruttotonnasje 1969</th>\n      <th>Bredde</th>\n      <th>Fartøylengde</th>\n    </tr>\n  </thead>\n  <tbody>\n    <tr>\n      <th>5</th>\n      <td>2017-12-31 05:48:00</td>\n      <td>74.910</td>\n      <td>15.868</td>\n      <td>Bjørnøya</td>\n      <td>-403</td>\n      <td>2017-12-31 10:15:00</td>\n      <td>267</td>\n      <td>2017</td>\n      <td>74,901</td>\n      <td>16,248</td>\n      <td>...</td>\n      <td>-277</td>\n      <td>11096.0</td>\n      <td>Bunntrål</td>\n      <td>Hyse</td>\n      <td>Hyse</td>\n      <td>9118.0</td>\n      <td>NaN</td>\n      <td>1476.0</td>\n      <td>12.6</td>\n      <td>56.8</td>\n    </tr>\n    <tr>\n      <th>6</th>\n      <td>2017-12-31 05:48:00</td>\n      <td>74.910</td>\n      <td>15.868</td>\n      <td>Bjørnøya</td>\n      <td>-403</td>\n      <td>2017-12-31 10:15:00</td>\n      <td>267</td>\n      <td>2017</td>\n      <td>74,901</td>\n      <td>16,248</td>\n      <td>...</td>\n      <td>-277</td>\n      <td>11096.0</td>\n      <td>Bunntrål</td>\n      <td>Torsk</td>\n      <td>Torsk</td>\n      <td>6651.0</td>\n      <td>NaN</td>\n      <td>1476.0</td>\n      <td>12.6</td>\n      <td>56.8</td>\n    </tr>\n    <tr>\n      <th>7</th>\n      <td>2017-12-31 05:48:00</td>\n      <td>74.910</td>\n      <td>15.868</td>\n      <td>Bjørnøya</td>\n      <td>-403</td>\n      <td>2017-12-31 10:15:00</td>\n      <td>267</td>\n      <td>2017</td>\n      <td>74,901</td>\n      <td>16,248</td>\n      <td>...</td>\n      <td>-277</td>\n      <td>11096.0</td>\n      <td>Bunntrål</td>\n      <td>Blåkveite</td>\n      <td>Blåkveite</td>\n      <td>130.0</td>\n      <td>NaN</td>\n      <td>1476.0</td>\n      <td>12.6</td>\n      <td>56.8</td>\n    </tr>\n    <tr>\n      <th>9</th>\n      <td>2017-12-31 05:48:00</td>\n      <td>74.910</td>\n      <td>15.868</td>\n      <td>Bjørnøya</td>\n      <td>-403</td>\n      <td>2017-12-31 10:15:00</td>\n      <td>267</td>\n      <td>2017</td>\n      <td>74,901</td>\n      <td>16,248</td>\n      <td>...</td>\n      <td>-277</td>\n      <td>11096.0</td>\n      <td>Bunntrål</td>\n      <td>Sei</td>\n      <td>Sei</td>\n      <td>67.0</td>\n      <td>NaN</td>\n      <td>1476.0</td>\n      <td>12.6</td>\n      <td>56.8</td>\n    </tr>\n    <tr>\n      <th>11</th>\n      <td>2017-12-31 11:34:00</td>\n      <td>74.883</td>\n      <td>16.056</td>\n      <td>Bjørnøya</td>\n      <td>-346</td>\n      <td>2017-12-31 16:49:00</td>\n      <td>315</td>\n      <td>2017</td>\n      <td>74,924</td>\n      <td>15,742</td>\n      <td>...</td>\n      <td>-496</td>\n      <td>10215.0</td>\n      <td>Bunntrål</td>\n      <td>Hyse</td>\n      <td>Hyse</td>\n      <td>12432.0</td>\n      <td>NaN</td>\n      <td>1476.0</td>\n      <td>12.6</td>\n      <td>56.8</td>\n    </tr>\n  </tbody>\n</table>\n<p>5 rows × 21 columns</p>\n</div>"
     },
     "execution_count": 17,
     "metadata": {},
     "output_type": "execute_result"
    }
   ],
   "source": [
    "# Check for duplicate coaster name\n",
    "df.loc[df.duplicated(subset=['Art FAO'])].head(5)"
   ],
   "metadata": {
    "collapsed": false,
    "ExecuteTime": {
     "end_time": "2024-03-07T13:53:35.841573500Z",
     "start_time": "2024-03-07T13:53:35.655637600Z"
    }
   },
   "id": "92b5e70378710f93",
   "execution_count": 17
  }
 ],
 "metadata": {
  "kernelspec": {
   "name": "venv",
   "language": "python",
   "display_name": "venv"
  },
  "language_info": {
   "codemirror_mode": {
    "name": "ipython",
    "version": 2
   },
   "file_extension": ".py",
   "mimetype": "text/x-python",
   "name": "python",
   "nbconvert_exporter": "python",
   "pygments_lexer": "ipython2",
   "version": "2.7.6"
  }
 },
 "nbformat": 4,
 "nbformat_minor": 5
}
