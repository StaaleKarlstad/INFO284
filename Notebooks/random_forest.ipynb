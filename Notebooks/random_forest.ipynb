{
 "cells": [
  {
   "cell_type": "markdown",
   "id": "216906d0d7843cd3",
   "metadata": {
    "collapsed": false
   },
   "source": [
    "# Fishery dataset: Predicting caught weight with machine learning\n",
    "\n",
    "In this project, we aim to create machine learning models to predict the live weight of fish caught from fishing operations. We will try to uncover important and predictive features of the fishing operations which will be used as parameters in our models.\n",
    "\n",
    "**[Part A - Preprocessing](#part_a)**\n",
    "\n",
    "This part starts by initializing python and all the libraries we use to process the data. Further we perform exploratory data analysis (EDA) to understand the features, remove anomalies and redundant information in the dataset, thus preparing the data for modeling.\n",
    "\n",
    "**[Part B - Supervised learning](#part_b)**\n",
    "\n",
    "* Random Forest\n",
    "* K-Nearest Neighbors (KNN)\n",
    "* Deep Neural Network (DNN)\n",
    "\n",
    "**[Part C - Unsupervised learning](#part_c)**\n",
    "\n",
    "Techniques such as DBSCAN for clustering will be explored.\n",
    "\n",
    "\n",
    "To run this file you need the following libraries:\n",
    "\n",
    "```\n",
    "matplotlib==3.8.2\n",
    "matplotlib-inline==0.1.6\n",
    "numpy==1.26.4\n",
    "pandas==2.2.0\n",
    "scikit-learn==1.4.0\n",
    "scipy==1.12.0\n",
    "seaborn\n",
    "```"
   ]
  },
  {
   "cell_type": "markdown",
   "id": "4ecba8fe03b7350c",
   "metadata": {
    "collapsed": false
   },
   "source": [
    "<a id=\"part_a\"></a>\n",
    "## Part A - Preprocessing"
   ]
  },
  {
   "cell_type": "markdown",
   "id": "e4b1d3c8ba54dcab",
   "metadata": {
    "collapsed": false
   },
   "source": [
    "### Step 0 - Importing libraries and reading the data\n",
    "\n",
    "To start the project, we need to import the most common libraries we will use to explore the data."
   ]
  },
  {
   "cell_type": "code",
   "execution_count": 4,
   "id": "initial_id",
   "metadata": {
    "collapsed": true,
    "jupyter": {
     "outputs_hidden": true
    },
    "ExecuteTime": {
     "end_time": "2024-04-30T01:56:43.769343300Z",
     "start_time": "2024-04-30T01:56:43.457667400Z"
    }
   },
   "outputs": [],
   "source": [
    "import math\n",
    "\n",
    "# Data manipulation\n",
    "import pandas as pd\n",
    "import numpy as np\n",
    "\n",
    "# Data visualization\n",
    "import matplotlib.pyplot as plt\n",
    "import seaborn as sns\n",
    "\n",
    "# Machine learning models\n",
    "from sklearn.neighbors import KNeighborsRegressor\n",
    "from sklearn.ensemble import RandomForestRegressor\n",
    "from sklearn.neural_network import MLPRegressor\n",
    "from sklearn.cluster import DBSCAN\n",
    "\n",
    "# Model evaluation and selection tools\n",
    "from sklearn.model_selection import train_test_split, GridSearchCV\n",
    "from sklearn.metrics import mean_squared_error, r2_score\n",
    "\n",
    "# Data preprocessing and pipeline tools\n",
    "from sklearn.pipeline import Pipeline\n",
    "from sklearn.discriminant_analysis import StandardScaler\n",
    "\n",
    "# Setting plot style\n",
    "plt.style.use('ggplot')"
   ]
  },
  {
   "cell_type": "markdown",
   "id": "c876d7ec",
   "metadata": {},
   "source": [
    "### Step 1 - Reading the data\n",
    "\n",
    "The data from the fishery reports are in the form of a CSV file. We read this file into a Pandas dataframe allowing for easy analysis and manipulation.\n",
    "\n",
    "To ensure that the data was successfully loaded into the DataFrame, it can be useful to inspect the initial content. To do so we can use the `df.head(n)` function to display the first n rows and the column headers of the dataframe."
   ]
  },
  {
   "cell_type": "code",
   "execution_count": 5,
   "id": "18985faf1425b142",
   "metadata": {
    "collapsed": false,
    "ExecuteTime": {
     "end_time": "2024-04-30T01:56:44.411849600Z",
     "start_time": "2024-04-30T01:56:43.465311Z"
    }
   },
   "outputs": [
    {
     "data": {
      "text/plain": "   Melding ID Meldingstidspunkt Meldingsdato Meldingsklokkeslett  \\\n0     1497177        01.01.2018   01.01.2018               00:00   \n1     1497178        01.01.2018   01.01.2018               00:00   \n2     1497178        01.01.2018   01.01.2018               00:00   \n3     1497178        01.01.2018   01.01.2018               00:00   \n4     1497178        01.01.2018   01.01.2018               00:00   \n\n     Starttidspunkt   Startdato Startklokkeslett Startposisjon bredde  \\\n0        31.12.2017  31.12.2017            00:00               -60,35   \n1  30.12.2017 23:21  30.12.2017            23:21               74,885   \n2  30.12.2017 23:21  30.12.2017            23:21               74,885   \n3  30.12.2017 23:21  30.12.2017            23:21               74,885   \n4  30.12.2017 23:21  30.12.2017            23:21               74,885   \n\n  Startposisjon lengde  Hovedområde start (kode)  ...        Art - FDIR  \\\n0              -46,133                       NaN  ...  Antarktisk krill   \n1               16,048                      20.0  ...              Hyse   \n2               16,048                      20.0  ...             Torsk   \n3               16,048                      20.0  ...         Blåkveite   \n4               16,048                      20.0  ...               Sei   \n\n   Art - gruppe (kode)      Art - gruppe  Rundvekt Lengdegruppe (kode)  \\\n0                506.0  Antarktisk krill  706714.0                 5.0   \n1                202.0              Hyse    9594.0                 5.0   \n2                201.0             Torsk    8510.0                 5.0   \n3                301.0         Blåkveite     196.0                 5.0   \n4                203.0               Sei     134.0                 5.0   \n\n   Lengdegruppe  Bruttotonnasje 1969  Bruttotonnasje annen Bredde Fartøylengde  \n0  28 m og over               9432.0                   NaN  19,87       133,88  \n1  28 m og over               1476.0                   NaN   12,6         56,8  \n2  28 m og over               1476.0                   NaN   12,6         56,8  \n3  28 m og over               1476.0                   NaN   12,6         56,8  \n4  28 m og over               1476.0                   NaN   12,6         56,8  \n\n[5 rows x 45 columns]",
      "text/html": "<div>\n<style scoped>\n    .dataframe tbody tr th:only-of-type {\n        vertical-align: middle;\n    }\n\n    .dataframe tbody tr th {\n        vertical-align: top;\n    }\n\n    .dataframe thead th {\n        text-align: right;\n    }\n</style>\n<table border=\"1\" class=\"dataframe\">\n  <thead>\n    <tr style=\"text-align: right;\">\n      <th></th>\n      <th>Melding ID</th>\n      <th>Meldingstidspunkt</th>\n      <th>Meldingsdato</th>\n      <th>Meldingsklokkeslett</th>\n      <th>Starttidspunkt</th>\n      <th>Startdato</th>\n      <th>Startklokkeslett</th>\n      <th>Startposisjon bredde</th>\n      <th>Startposisjon lengde</th>\n      <th>Hovedområde start (kode)</th>\n      <th>...</th>\n      <th>Art - FDIR</th>\n      <th>Art - gruppe (kode)</th>\n      <th>Art - gruppe</th>\n      <th>Rundvekt</th>\n      <th>Lengdegruppe (kode)</th>\n      <th>Lengdegruppe</th>\n      <th>Bruttotonnasje 1969</th>\n      <th>Bruttotonnasje annen</th>\n      <th>Bredde</th>\n      <th>Fartøylengde</th>\n    </tr>\n  </thead>\n  <tbody>\n    <tr>\n      <th>0</th>\n      <td>1497177</td>\n      <td>01.01.2018</td>\n      <td>01.01.2018</td>\n      <td>00:00</td>\n      <td>31.12.2017</td>\n      <td>31.12.2017</td>\n      <td>00:00</td>\n      <td>-60,35</td>\n      <td>-46,133</td>\n      <td>NaN</td>\n      <td>...</td>\n      <td>Antarktisk krill</td>\n      <td>506.0</td>\n      <td>Antarktisk krill</td>\n      <td>706714.0</td>\n      <td>5.0</td>\n      <td>28 m og over</td>\n      <td>9432.0</td>\n      <td>NaN</td>\n      <td>19,87</td>\n      <td>133,88</td>\n    </tr>\n    <tr>\n      <th>1</th>\n      <td>1497178</td>\n      <td>01.01.2018</td>\n      <td>01.01.2018</td>\n      <td>00:00</td>\n      <td>30.12.2017 23:21</td>\n      <td>30.12.2017</td>\n      <td>23:21</td>\n      <td>74,885</td>\n      <td>16,048</td>\n      <td>20.0</td>\n      <td>...</td>\n      <td>Hyse</td>\n      <td>202.0</td>\n      <td>Hyse</td>\n      <td>9594.0</td>\n      <td>5.0</td>\n      <td>28 m og over</td>\n      <td>1476.0</td>\n      <td>NaN</td>\n      <td>12,6</td>\n      <td>56,8</td>\n    </tr>\n    <tr>\n      <th>2</th>\n      <td>1497178</td>\n      <td>01.01.2018</td>\n      <td>01.01.2018</td>\n      <td>00:00</td>\n      <td>30.12.2017 23:21</td>\n      <td>30.12.2017</td>\n      <td>23:21</td>\n      <td>74,885</td>\n      <td>16,048</td>\n      <td>20.0</td>\n      <td>...</td>\n      <td>Torsk</td>\n      <td>201.0</td>\n      <td>Torsk</td>\n      <td>8510.0</td>\n      <td>5.0</td>\n      <td>28 m og over</td>\n      <td>1476.0</td>\n      <td>NaN</td>\n      <td>12,6</td>\n      <td>56,8</td>\n    </tr>\n    <tr>\n      <th>3</th>\n      <td>1497178</td>\n      <td>01.01.2018</td>\n      <td>01.01.2018</td>\n      <td>00:00</td>\n      <td>30.12.2017 23:21</td>\n      <td>30.12.2017</td>\n      <td>23:21</td>\n      <td>74,885</td>\n      <td>16,048</td>\n      <td>20.0</td>\n      <td>...</td>\n      <td>Blåkveite</td>\n      <td>301.0</td>\n      <td>Blåkveite</td>\n      <td>196.0</td>\n      <td>5.0</td>\n      <td>28 m og over</td>\n      <td>1476.0</td>\n      <td>NaN</td>\n      <td>12,6</td>\n      <td>56,8</td>\n    </tr>\n    <tr>\n      <th>4</th>\n      <td>1497178</td>\n      <td>01.01.2018</td>\n      <td>01.01.2018</td>\n      <td>00:00</td>\n      <td>30.12.2017 23:21</td>\n      <td>30.12.2017</td>\n      <td>23:21</td>\n      <td>74,885</td>\n      <td>16,048</td>\n      <td>20.0</td>\n      <td>...</td>\n      <td>Sei</td>\n      <td>203.0</td>\n      <td>Sei</td>\n      <td>134.0</td>\n      <td>5.0</td>\n      <td>28 m og over</td>\n      <td>1476.0</td>\n      <td>NaN</td>\n      <td>12,6</td>\n      <td>56,8</td>\n    </tr>\n  </tbody>\n</table>\n<p>5 rows × 45 columns</p>\n</div>"
     },
     "execution_count": 5,
     "metadata": {},
     "output_type": "execute_result"
    }
   ],
   "source": [
    "df = pd.read_csv('../Resources/elektronisk-rapportering-ers-2018-fangstmelding-dca-simple.csv', delimiter=';')\n",
    "df.head(5)"
   ]
  },
  {
   "cell_type": "markdown",
   "id": "bfaedbc884925f12",
   "metadata": {
    "collapsed": false
   },
   "source": [
    "### Step 2 - Understanding the data\n",
    "\n",
    "Now that we've loaded the data, we can start our analysis."
   ]
  },
  {
   "cell_type": "code",
   "execution_count": 6,
   "id": "591b8c73564b3c12",
   "metadata": {
    "collapsed": false,
    "ExecuteTime": {
     "end_time": "2024-04-30T01:56:44.415941900Z",
     "start_time": "2024-04-30T01:56:44.411849600Z"
    }
   },
   "outputs": [
    {
     "name": "stdout",
     "output_type": "stream",
     "text": [
      "DataFrame contents\n",
      "Rows: 305434, Columns: 45\n"
     ]
    }
   ],
   "source": [
    "shape = df.shape\n",
    "print(\"DataFrame contents\")\n",
    "print(f\"Rows: {shape[0]}, Columns: {shape[1]}\")"
   ]
  },
  {
   "cell_type": "code",
   "execution_count": 7,
   "id": "77acd2d361c4a3ce",
   "metadata": {
    "collapsed": false,
    "ExecuteTime": {
     "end_time": "2024-04-30T01:56:44.421785200Z",
     "start_time": "2024-04-30T01:56:44.415941900Z"
    }
   },
   "outputs": [
    {
     "name": "stdout",
     "output_type": "stream",
     "text": [
      "DataFrame column names and their datatypes\n"
     ]
    },
    {
     "data": {
      "text/plain": "Melding ID                    int64\nMeldingstidspunkt            object\nMeldingsdato                 object\nMeldingsklokkeslett          object\nStarttidspunkt               object\nStartdato                    object\nStartklokkeslett             object\nStartposisjon bredde         object\nStartposisjon lengde         object\nHovedområde start (kode)    float64\nHovedområde start            object\nLokasjon start (kode)       float64\nHavdybde start                int64\nStopptidspunkt               object\nStoppdato                    object\nStoppklokkeslett             object\nVarighet                      int64\nFangstår                      int64\nStopposisjon bredde          object\nStopposisjon lengde          object\nHovedområde stopp (kode)    float64\nHovedområde stopp            object\nLokasjon stopp (kode)       float64\nHavdybde stopp                int64\nTrekkavstand                float64\nRedskap FAO (kode)           object\nRedskap FAO                  object\nRedskap FDIR (kode)         float64\nRedskap FDIR                 object\nHovedart FAO (kode)          object\nHovedart FAO                 object\nHovedart - FDIR (kode)      float64\nArt FAO (kode)               object\nArt FAO                      object\nArt - FDIR (kode)           float64\nArt - FDIR                   object\nArt - gruppe (kode)         float64\nArt - gruppe                 object\nRundvekt                    float64\nLengdegruppe (kode)         float64\nLengdegruppe                 object\nBruttotonnasje 1969         float64\nBruttotonnasje annen        float64\nBredde                       object\nFartøylengde                 object\ndtype: object"
     },
     "execution_count": 7,
     "metadata": {},
     "output_type": "execute_result"
    }
   ],
   "source": [
    "print(\"DataFrame column names and their datatypes\")\n",
    "df.dtypes"
   ]
  },
  {
   "cell_type": "code",
   "execution_count": 8,
   "id": "7cf0273a1a1adbe",
   "metadata": {
    "collapsed": false,
    "ExecuteTime": {
     "end_time": "2024-04-30T01:56:44.604213900Z",
     "start_time": "2024-04-30T01:56:44.421785200Z"
    }
   },
   "outputs": [
    {
     "data": {
      "text/plain": "         Melding ID  Hovedområde start (kode)  Lokasjon start (kode)  \\\ncount  3.054340e+05             303433.000000          303433.000000   \nmean   1.658783e+06                 14.463737              19.074712   \nstd    9.130738e+04                 13.001244              18.469340   \nmin    1.497177e+06                  0.000000               0.000000   \n25%    1.567228e+06                  5.000000               7.000000   \n50%    1.674230e+06                  8.000000              12.000000   \n75%    1.735590e+06                 20.000000              24.000000   \nmax    1.800291e+06                 81.000000              87.000000   \n\n       Havdybde start       Varighet       Fangstår  Hovedområde stopp (kode)  \\\ncount   305434.000000  305434.000000  305434.000000             303472.000000   \nmean      -228.025292     537.095526    2017.999941                 14.430415   \nstd        226.062493    2201.624688       0.007677                 12.973150   \nmin      -5388.000000       0.000000    2017.000000                  0.000000   \n25%       -273.000000     123.000000    2018.000000                  5.000000   \n50%       -196.000000     296.000000    2018.000000                  8.000000   \n75%       -128.000000     494.000000    2018.000000                 20.000000   \nmax       1220.000000  125534.000000    2018.000000                 81.000000   \n\n       Lokasjon stopp (kode)  Havdybde stopp  Trekkavstand  \\\ncount          303472.000000   305434.000000  3.054100e+05   \nmean               18.883353     -229.084850  1.566397e+04   \nstd                18.361244      224.277365  9.033085e+04   \nmin                 0.000000    -5388.000000  0.000000e+00   \n25%                 7.000000     -274.000000  2.533000e+03   \n50%                12.000000     -198.000000  7.598000e+03   \n75%                24.000000     -127.000000  2.259900e+04   \nmax                87.000000     1616.000000  1.588863e+07   \n\n       Redskap FDIR (kode)  Hovedart - FDIR (kode)  Art - FDIR (kode)  \\\ncount        305246.000000           300456.000000      300452.000000   \nmean             46.489746             1326.729934        1414.625914   \nstd              13.534202              614.506560         633.188386   \nmin              11.000000              412.000000         211.000000   \n25%              32.000000             1022.000000        1022.000000   \n50%              51.000000             1032.000000        1032.000000   \n75%              55.000000             1038.000000        2202.000000   \nmax              80.000000             6619.000000        6619.000000   \n\n       Art - gruppe (kode)      Rundvekt  Lengdegruppe (kode)  \\\ncount        300452.000000  3.004560e+05        304750.000000   \nmean            259.746585  7.438208e+03             4.575032   \nstd             320.124913  4.281086e+04             0.692769   \nmin             101.000000  0.000000e+00             3.000000   \n25%             201.000000  6.400000e+01             4.000000   \n50%             203.000000  3.000000e+02             5.000000   \n75%             302.000000  2.236000e+03             5.000000   \nmax            9903.000000  1.100000e+06             5.000000   \n\n       Bruttotonnasje 1969  Bruttotonnasje annen  \ncount        234005.000000          74774.000000  \nmean           1408.386975            186.172573  \nstd            1148.384145            165.761157  \nmin             104.000000             21.000000  \n25%             496.000000             87.000000  \n50%            1184.000000            149.000000  \n75%            2053.000000            236.000000  \nmax            9432.000000           1147.000000  ",
      "text/html": "<div>\n<style scoped>\n    .dataframe tbody tr th:only-of-type {\n        vertical-align: middle;\n    }\n\n    .dataframe tbody tr th {\n        vertical-align: top;\n    }\n\n    .dataframe thead th {\n        text-align: right;\n    }\n</style>\n<table border=\"1\" class=\"dataframe\">\n  <thead>\n    <tr style=\"text-align: right;\">\n      <th></th>\n      <th>Melding ID</th>\n      <th>Hovedområde start (kode)</th>\n      <th>Lokasjon start (kode)</th>\n      <th>Havdybde start</th>\n      <th>Varighet</th>\n      <th>Fangstår</th>\n      <th>Hovedområde stopp (kode)</th>\n      <th>Lokasjon stopp (kode)</th>\n      <th>Havdybde stopp</th>\n      <th>Trekkavstand</th>\n      <th>Redskap FDIR (kode)</th>\n      <th>Hovedart - FDIR (kode)</th>\n      <th>Art - FDIR (kode)</th>\n      <th>Art - gruppe (kode)</th>\n      <th>Rundvekt</th>\n      <th>Lengdegruppe (kode)</th>\n      <th>Bruttotonnasje 1969</th>\n      <th>Bruttotonnasje annen</th>\n    </tr>\n  </thead>\n  <tbody>\n    <tr>\n      <th>count</th>\n      <td>3.054340e+05</td>\n      <td>303433.000000</td>\n      <td>303433.000000</td>\n      <td>305434.000000</td>\n      <td>305434.000000</td>\n      <td>305434.000000</td>\n      <td>303472.000000</td>\n      <td>303472.000000</td>\n      <td>305434.000000</td>\n      <td>3.054100e+05</td>\n      <td>305246.000000</td>\n      <td>300456.000000</td>\n      <td>300452.000000</td>\n      <td>300452.000000</td>\n      <td>3.004560e+05</td>\n      <td>304750.000000</td>\n      <td>234005.000000</td>\n      <td>74774.000000</td>\n    </tr>\n    <tr>\n      <th>mean</th>\n      <td>1.658783e+06</td>\n      <td>14.463737</td>\n      <td>19.074712</td>\n      <td>-228.025292</td>\n      <td>537.095526</td>\n      <td>2017.999941</td>\n      <td>14.430415</td>\n      <td>18.883353</td>\n      <td>-229.084850</td>\n      <td>1.566397e+04</td>\n      <td>46.489746</td>\n      <td>1326.729934</td>\n      <td>1414.625914</td>\n      <td>259.746585</td>\n      <td>7.438208e+03</td>\n      <td>4.575032</td>\n      <td>1408.386975</td>\n      <td>186.172573</td>\n    </tr>\n    <tr>\n      <th>std</th>\n      <td>9.130738e+04</td>\n      <td>13.001244</td>\n      <td>18.469340</td>\n      <td>226.062493</td>\n      <td>2201.624688</td>\n      <td>0.007677</td>\n      <td>12.973150</td>\n      <td>18.361244</td>\n      <td>224.277365</td>\n      <td>9.033085e+04</td>\n      <td>13.534202</td>\n      <td>614.506560</td>\n      <td>633.188386</td>\n      <td>320.124913</td>\n      <td>4.281086e+04</td>\n      <td>0.692769</td>\n      <td>1148.384145</td>\n      <td>165.761157</td>\n    </tr>\n    <tr>\n      <th>min</th>\n      <td>1.497177e+06</td>\n      <td>0.000000</td>\n      <td>0.000000</td>\n      <td>-5388.000000</td>\n      <td>0.000000</td>\n      <td>2017.000000</td>\n      <td>0.000000</td>\n      <td>0.000000</td>\n      <td>-5388.000000</td>\n      <td>0.000000e+00</td>\n      <td>11.000000</td>\n      <td>412.000000</td>\n      <td>211.000000</td>\n      <td>101.000000</td>\n      <td>0.000000e+00</td>\n      <td>3.000000</td>\n      <td>104.000000</td>\n      <td>21.000000</td>\n    </tr>\n    <tr>\n      <th>25%</th>\n      <td>1.567228e+06</td>\n      <td>5.000000</td>\n      <td>7.000000</td>\n      <td>-273.000000</td>\n      <td>123.000000</td>\n      <td>2018.000000</td>\n      <td>5.000000</td>\n      <td>7.000000</td>\n      <td>-274.000000</td>\n      <td>2.533000e+03</td>\n      <td>32.000000</td>\n      <td>1022.000000</td>\n      <td>1022.000000</td>\n      <td>201.000000</td>\n      <td>6.400000e+01</td>\n      <td>4.000000</td>\n      <td>496.000000</td>\n      <td>87.000000</td>\n    </tr>\n    <tr>\n      <th>50%</th>\n      <td>1.674230e+06</td>\n      <td>8.000000</td>\n      <td>12.000000</td>\n      <td>-196.000000</td>\n      <td>296.000000</td>\n      <td>2018.000000</td>\n      <td>8.000000</td>\n      <td>12.000000</td>\n      <td>-198.000000</td>\n      <td>7.598000e+03</td>\n      <td>51.000000</td>\n      <td>1032.000000</td>\n      <td>1032.000000</td>\n      <td>203.000000</td>\n      <td>3.000000e+02</td>\n      <td>5.000000</td>\n      <td>1184.000000</td>\n      <td>149.000000</td>\n    </tr>\n    <tr>\n      <th>75%</th>\n      <td>1.735590e+06</td>\n      <td>20.000000</td>\n      <td>24.000000</td>\n      <td>-128.000000</td>\n      <td>494.000000</td>\n      <td>2018.000000</td>\n      <td>20.000000</td>\n      <td>24.000000</td>\n      <td>-127.000000</td>\n      <td>2.259900e+04</td>\n      <td>55.000000</td>\n      <td>1038.000000</td>\n      <td>2202.000000</td>\n      <td>302.000000</td>\n      <td>2.236000e+03</td>\n      <td>5.000000</td>\n      <td>2053.000000</td>\n      <td>236.000000</td>\n    </tr>\n    <tr>\n      <th>max</th>\n      <td>1.800291e+06</td>\n      <td>81.000000</td>\n      <td>87.000000</td>\n      <td>1220.000000</td>\n      <td>125534.000000</td>\n      <td>2018.000000</td>\n      <td>81.000000</td>\n      <td>87.000000</td>\n      <td>1616.000000</td>\n      <td>1.588863e+07</td>\n      <td>80.000000</td>\n      <td>6619.000000</td>\n      <td>6619.000000</td>\n      <td>9903.000000</td>\n      <td>1.100000e+06</td>\n      <td>5.000000</td>\n      <td>9432.000000</td>\n      <td>1147.000000</td>\n    </tr>\n  </tbody>\n</table>\n</div>"
     },
     "execution_count": 8,
     "metadata": {},
     "output_type": "execute_result"
    }
   ],
   "source": [
    "df.describe()"
   ]
  },
  {
   "cell_type": "markdown",
   "id": "25c2c862d0232b4a",
   "metadata": {
    "collapsed": false
   },
   "source": [
    "The dataset contains in total 305.434 rows of data, with 45 columns. Having a large dataset is beneficial for machine learning purposes. Generally having more data gives us flexibility in choosing relevant features. It also grants us a larger training, testing, and validation datasets when building our models. This can result in higher accuracy, assuming the data is well-prepared and is of high quality."
   ]
  },
  {
   "cell_type": "markdown",
   "id": "92437f4166a20a7e",
   "metadata": {
    "collapsed": false
   },
   "source": [
    "# Step 2 - Data preparation\n",
    "\n",
    "The dataset contains several columns which are unnecessary for our purpose. This includes the message report metadata, as well as duplicate columns which represents the same information in codes instead of words. We will now remove these columns."
   ]
  },
  {
   "cell_type": "code",
   "execution_count": 9,
   "id": "13ef7b6ef0f7520a",
   "metadata": {
    "collapsed": false,
    "ExecuteTime": {
     "end_time": "2024-04-30T01:56:44.688909800Z",
     "start_time": "2024-04-30T01:56:44.604213900Z"
    }
   },
   "outputs": [],
   "source": [
    "df = df[[\n",
    "    'Starttidspunkt','Startposisjon bredde', 'Startposisjon lengde', 'Hovedområde start',\n",
    "    'Havdybde start', 'Stopptidspunkt', 'Varighet', 'Fangstår', 'Stopposisjon bredde', \n",
    "    'Stopposisjon lengde', 'Hovedområde stopp', 'Havdybde stopp', 'Trekkavstand', 'Redskap FDIR',\n",
    "    'Art - FDIR', 'Art - gruppe', 'Rundvekt', 'Bruttotonnasje annen', \n",
    "    'Bruttotonnasje 1969', 'Bredde', 'Fartøylengde'\n",
    "    ]].copy()"
   ]
  },
  {
   "cell_type": "markdown",
   "id": "bafef0794c0f45a7",
   "metadata": {
    "collapsed": false
   },
   "source": [
    "Several of the datatypes which are supposed to be continuous numeric values but are interpreted as objects. This is likely because the numbers are all using comma as decimal seperator, which is the standard representation in Norway. There are also several date and time object columns which needs to be converted to datetime."
   ]
  },
  {
   "cell_type": "code",
   "execution_count": 10,
   "id": "668ce708af0a8771",
   "metadata": {
    "collapsed": false,
    "ExecuteTime": {
     "end_time": "2024-04-30T01:56:49.723556100Z",
     "start_time": "2024-04-30T01:56:44.659388Z"
    }
   },
   "outputs": [],
   "source": [
    "df['Starttidspunkt'] = pd.to_datetime(df['Starttidspunkt'], format='mixed')\n",
    "df['Stopptidspunkt'] = pd.to_datetime(df['Stopptidspunkt'], format='mixed')\n",
    "\n",
    "df['Fartøylengde'] = pd.to_numeric(df['Fartøylengde'].str.replace(',', '.'))\n",
    "df['Bredde'] = pd.to_numeric(df['Bredde'].str.replace(',', '.'))\n",
    "\n",
    "df['Startposisjon bredde'] = pd.to_numeric(df['Startposisjon bredde'].str.replace(',', '.'))\n",
    "df['Startposisjon lengde'] = pd.to_numeric(df['Startposisjon lengde'].str.replace(',', '.'))"
   ]
  },
  {
   "cell_type": "markdown",
   "id": "6e80f6f46e46e8b8",
   "metadata": {
    "collapsed": false
   },
   "source": [
    "### Missing data\n",
    "\n",
    "Given our large dataset, it's highly likely that some of the data will be missing, corrupt or unwanted.\n",
    "\n",
    "Empty cells are considered null values. The models in sci kit learn will give us an error when encountering these. Therefore, it is important to deal with null values during the pre-processing phase.\n",
    " \n",
    "We must decide whether to drop the rows and columns containing null values, or to fill in the missing cells with another value. The ladder approach is referred to as 'imputation'.\n",
    "\n",
    "We use the `df.isna()` method on our dataframe to iterate each column checking for null values. `sum()` gives us the total for each column:"
   ]
  },
  {
   "cell_type": "code",
   "execution_count": 11,
   "id": "3c16734dea6c7996",
   "metadata": {
    "collapsed": false,
    "ExecuteTime": {
     "end_time": "2024-04-30T01:56:49.770551100Z",
     "start_time": "2024-04-30T01:56:49.724557100Z"
    }
   },
   "outputs": [
    {
     "name": "stdout",
     "output_type": "stream",
     "text": [
      "Number of columns with no missing values: 11\n"
     ]
    },
    {
     "data": {
      "text/plain": "Hovedområde start         4124\nHovedområde stopp         4124\nTrekkavstand                24\nRedskap FDIR               188\nArt - FDIR                4982\nArt - gruppe              4982\nRundvekt                  4978\nBruttotonnasje annen    230660\nBruttotonnasje 1969      71429\nBredde                     684\ndtype: int64"
     },
     "execution_count": 11,
     "metadata": {},
     "output_type": "execute_result"
    }
   ],
   "source": [
    "na_counts = df.isna().sum()\n",
    "null_value_columns = na_counts[na_counts > 0]\n",
    "\n",
    "print(f\"Number of columns with no missing values: {len(na_counts[na_counts == 0])}\")\n",
    "null_value_columns"
   ]
  },
  {
   "cell_type": "markdown",
   "id": "8fcd7a1cb2e9cad4",
   "metadata": {
    "collapsed": false
   },
   "source": [
    "We observe that 10 of our remaining 21 columns contain missing values. Among these, the columns concerning \"Bruttotonnasje\" have a significant amount of missing values. Let's examine these more closely."
   ]
  },
  {
   "cell_type": "code",
   "execution_count": 12,
   "id": "d8bdab725dcc635b",
   "metadata": {
    "collapsed": false,
    "ExecuteTime": {
     "end_time": "2024-04-30T01:56:49.777886900Z",
     "start_time": "2024-04-30T01:56:49.769551800Z"
    }
   },
   "outputs": [
    {
     "name": "stdout",
     "output_type": "stream",
     "text": [
      "Number of rows with both columns null: 2971\n",
      "Number of rows with overlapping values: 0\n"
     ]
    }
   ],
   "source": [
    "null_count = df[df[['Bruttotonnasje 1969', 'Bruttotonnasje annen']].isna().all(axis=1)].shape[0]\n",
    "print(f'Number of rows with both columns null: {null_count}')\n",
    "\n",
    "overlap_count = df[(df['Bruttotonnasje 1969'] == df['Bruttotonnasje annen']) & df['Bruttotonnasje 1969'].notna()].shape[0]\n",
    "print(f'Number of rows with overlapping values: {overlap_count}')"
   ]
  },
  {
   "cell_type": "markdown",
   "id": "ec90911ee1978c08",
   "metadata": {
    "collapsed": false
   },
   "source": [
    "We see that all rows have at least one of the two \"Bruttotonnasje\" columns. If we want to use these columns further we would have to combine them into one feature. However, since \"Bruttotonnasje annen\" are an ambiguous category which can consist many different standards of measuring Bruttotonnasje, it can be a challenge to merge then, since it doesn't have a 1:1 relation.\n",
    "\n",
    "To further evaluate what to do with these columns, we shall look at their relation to our target, \"Rundvekt\". We also want to evaluate its relation to a feature which can be closely related, \"Fartøylengde\"."
   ]
  },
  {
   "cell_type": "code",
   "execution_count": 13,
   "id": "5d9cdf4c54309371",
   "metadata": {
    "collapsed": false,
    "ExecuteTime": {
     "end_time": "2024-04-30T01:56:49.783038600Z",
     "start_time": "2024-04-30T01:56:49.778886600Z"
    }
   },
   "outputs": [],
   "source": [
    "def filter_not_null_and_drop(df: pd.DataFrame, a: str, b: str):\n",
    "    filtered_df = df[df[a].notna()]\n",
    "    return filtered_df.drop(columns=[b])"
   ]
  },
  {
   "cell_type": "code",
   "execution_count": 14,
   "id": "969bcaf592723b0b",
   "metadata": {
    "collapsed": false,
    "ExecuteTime": {
     "end_time": "2024-04-30T01:56:49.840544400Z",
     "start_time": "2024-04-30T01:56:49.782002700Z"
    }
   },
   "outputs": [],
   "source": [
    "a = \"Bruttotonnasje 1969\"\n",
    "b = \"Bruttotonnasje annen\"\n",
    "\n",
    "filtered_df_sixty_nine = filter_not_null_and_drop(df, a, b)\n",
    "filtered_df_other = filter_not_null_and_drop(df, b, a)"
   ]
  },
  {
   "cell_type": "code",
   "execution_count": 15,
   "id": "739c73051e42fb04",
   "metadata": {
    "collapsed": false,
    "ExecuteTime": {
     "end_time": "2024-04-30T01:56:49.851649200Z",
     "start_time": "2024-04-30T01:56:49.838544400Z"
    }
   },
   "outputs": [],
   "source": [
    "related_features = [\"Fartøylengde\", \"Rundvekt\"]\n",
    "df_corr_brutto_sixty_nine = filtered_df_sixty_nine[[a] + related_features].corr()\n",
    "df_corr_brutto_other = filtered_df_other[[b] + related_features].corr()"
   ]
  },
  {
   "cell_type": "code",
   "execution_count": 16,
   "id": "3da00ad8fc5f6e8e",
   "metadata": {
    "collapsed": false,
    "ExecuteTime": {
     "end_time": "2024-04-30T01:56:49.858504800Z",
     "start_time": "2024-04-30T01:56:49.852653300Z"
    }
   },
   "outputs": [
    {
     "data": {
      "text/plain": "                     Bruttotonnasje 1969  Fartøylengde  Rundvekt\nBruttotonnasje 1969             1.000000      0.923074  0.157229\nFartøylengde                    0.923074      1.000000  0.186844\nRundvekt                        0.157229      0.186844  1.000000",
      "text/html": "<div>\n<style scoped>\n    .dataframe tbody tr th:only-of-type {\n        vertical-align: middle;\n    }\n\n    .dataframe tbody tr th {\n        vertical-align: top;\n    }\n\n    .dataframe thead th {\n        text-align: right;\n    }\n</style>\n<table border=\"1\" class=\"dataframe\">\n  <thead>\n    <tr style=\"text-align: right;\">\n      <th></th>\n      <th>Bruttotonnasje 1969</th>\n      <th>Fartøylengde</th>\n      <th>Rundvekt</th>\n    </tr>\n  </thead>\n  <tbody>\n    <tr>\n      <th>Bruttotonnasje 1969</th>\n      <td>1.000000</td>\n      <td>0.923074</td>\n      <td>0.157229</td>\n    </tr>\n    <tr>\n      <th>Fartøylengde</th>\n      <td>0.923074</td>\n      <td>1.000000</td>\n      <td>0.186844</td>\n    </tr>\n    <tr>\n      <th>Rundvekt</th>\n      <td>0.157229</td>\n      <td>0.186844</td>\n      <td>1.000000</td>\n    </tr>\n  </tbody>\n</table>\n</div>"
     },
     "execution_count": 16,
     "metadata": {},
     "output_type": "execute_result"
    }
   ],
   "source": [
    "df_corr_brutto_sixty_nine"
   ]
  },
  {
   "cell_type": "code",
   "execution_count": 17,
   "id": "b8e584209f941b2b",
   "metadata": {
    "collapsed": false,
    "ExecuteTime": {
     "end_time": "2024-04-30T01:56:49.862072800Z",
     "start_time": "2024-04-30T01:56:49.857505100Z"
    }
   },
   "outputs": [
    {
     "data": {
      "text/plain": "                      Bruttotonnasje annen  Fartøylengde  Rundvekt\nBruttotonnasje annen              1.000000      0.804281  0.145856\nFartøylengde                      0.804281      1.000000  0.177152\nRundvekt                          0.145856      0.177152  1.000000",
      "text/html": "<div>\n<style scoped>\n    .dataframe tbody tr th:only-of-type {\n        vertical-align: middle;\n    }\n\n    .dataframe tbody tr th {\n        vertical-align: top;\n    }\n\n    .dataframe thead th {\n        text-align: right;\n    }\n</style>\n<table border=\"1\" class=\"dataframe\">\n  <thead>\n    <tr style=\"text-align: right;\">\n      <th></th>\n      <th>Bruttotonnasje annen</th>\n      <th>Fartøylengde</th>\n      <th>Rundvekt</th>\n    </tr>\n  </thead>\n  <tbody>\n    <tr>\n      <th>Bruttotonnasje annen</th>\n      <td>1.000000</td>\n      <td>0.804281</td>\n      <td>0.145856</td>\n    </tr>\n    <tr>\n      <th>Fartøylengde</th>\n      <td>0.804281</td>\n      <td>1.000000</td>\n      <td>0.177152</td>\n    </tr>\n    <tr>\n      <th>Rundvekt</th>\n      <td>0.145856</td>\n      <td>0.177152</td>\n      <td>1.000000</td>\n    </tr>\n  </tbody>\n</table>\n</div>"
     },
     "execution_count": 17,
     "metadata": {},
     "output_type": "execute_result"
    }
   ],
   "source": [
    "df_corr_brutto_other"
   ]
  },
  {
   "cell_type": "markdown",
   "id": "30f9c689f5fd228e",
   "metadata": {
    "collapsed": false
   },
   "source": [
    "Looking at these correlations we see that Fartøylengde and Bruttotonnasje have a high correlation, indicating that they are dependent on each other. Having two highly correlated features provide redundant information. Therefore, we choose to drop one of these. We choose to drop Bruttotonasje since this has a lower correlation to our target variable \"Rundvekt\"."
   ]
  },
  {
   "cell_type": "code",
   "execution_count": 18,
   "id": "b5400abf9eaf8a3c",
   "metadata": {
    "collapsed": false,
    "ExecuteTime": {
     "end_time": "2024-04-30T01:56:49.947366700Z",
     "start_time": "2024-04-30T01:56:49.862072800Z"
    }
   },
   "outputs": [],
   "source": [
    "df.drop(['Bruttotonnasje 1969', 'Bruttotonnasje annen'], axis=1, inplace=True)"
   ]
  },
  {
   "cell_type": "code",
   "execution_count": 19,
   "id": "cd58fb945276a19e",
   "metadata": {
    "collapsed": false,
    "ExecuteTime": {
     "end_time": "2024-04-30T01:56:49.967914900Z",
     "start_time": "2024-04-30T01:56:49.894231Z"
    }
   },
   "outputs": [
    {
     "name": "stdout",
     "output_type": "stream",
     "text": [
      "Number of rows with any null values: 9631\n",
      "Percentage rows with null values: 3.15 %\n"
     ]
    }
   ],
   "source": [
    "rows_with_null = df.isna().any(axis=1)\n",
    "\n",
    "# Count the number of rows with any null values\n",
    "null_row_count = rows_with_null.sum()\n",
    "\n",
    "print(f\"Number of rows with any null values: {null_row_count}\")\n",
    "print(f\"Percentage rows with null values: {null_row_count / df.shape[0] * 100:.2f} %\")"
   ]
  },
  {
   "cell_type": "markdown",
   "id": "530853a21308a04f",
   "metadata": {
    "collapsed": false
   },
   "source": [
    "After dropping the \"Bruttotonnasje\" columns, the rows with null values are now only 3.15 % of the entire dataset. Removing these should have little effect on our models."
   ]
  },
  {
   "cell_type": "code",
   "execution_count": 20,
   "id": "aa7891d5e560c2b8",
   "metadata": {
    "collapsed": false,
    "ExecuteTime": {
     "end_time": "2024-04-30T01:56:50.014763900Z",
     "start_time": "2024-04-30T01:56:49.935861600Z"
    }
   },
   "outputs": [],
   "source": [
    "df = df.dropna()"
   ]
  },
  {
   "cell_type": "markdown",
   "id": "676e5e2802f0170c",
   "metadata": {
    "collapsed": false
   },
   "source": [
    "## Step 3 - Feature Understanding\n",
    "\n",
    "Here we will primarily use univariate analysis to understand the individual variables better.\n",
    "\n",
    "To start off it's useful to draw histograms of all numeric variables. This will help us understand the variance of the data. Identify outliers can be important since models, such as DNN, can be sensitive for such values."
   ]
  },
  {
   "cell_type": "code",
   "execution_count": 21,
   "id": "6fe1ddb78ea6897b",
   "metadata": {
    "collapsed": false,
    "ExecuteTime": {
     "end_time": "2024-04-30T01:56:51.406893Z",
     "start_time": "2024-04-30T01:56:50.005259100Z"
    }
   },
   "outputs": [
    {
     "data": {
      "text/plain": "<Figure size 2000x1500 with 12 Axes>",
      "image/png": "[encoded data removed]"
     },
     "metadata": {},
     "output_type": "display_data"
    }
   ],
   "source": [
    "df.hist(bins=128, figsize=(20,15));plt.show()"
   ]
  },
  {
   "cell_type": "markdown",
   "id": "2667de3bb93b19cd",
   "metadata": {
    "collapsed": false
   },
   "source": [
    "In the resulting histogram its clear that some columns, such as \"Varighet\" and \"Rundvekt\" have outliers that can affect the quality of our models. Outliers are values $1.5 \\cdot IQR$ (IQR = interquartile range) from the nearest quartile (Devore, 2021, p. 37). To visualize these outliers we will create boxplot."
   ]
  },
  {
   "cell_type": "code",
   "execution_count": 22,
   "id": "b5507689d4203f67",
   "metadata": {
    "collapsed": false,
    "ExecuteTime": {
     "end_time": "2024-04-30T01:56:51.410351500Z",
     "start_time": "2024-04-30T01:56:51.407893300Z"
    }
   },
   "outputs": [],
   "source": [
    "def draw_boxplots(variables):\n",
    "    num_of_features = len(variables)\n",
    "    \n",
    "    num_of_columns = 5\n",
    "    num_of_rows = int(np.ceil(num_of_features / num_of_columns))\n",
    "    \n",
    "    fig, axes = plt.subplots(nrows=num_of_rows, ncols=num_of_columns, figsize=(15, num_of_rows * num_of_columns))\n",
    "    axes = axes.flatten()\n",
    "\n",
    "    for i, col in enumerate(variables):\n",
    "        df.boxplot(column=col, ax=axes[i])\n",
    "    \n",
    "    # Hide empty subplots when (number_of_features < num_of_rows * num_of_columns)\n",
    "    for i in range(num_of_features, len(axes)):\n",
    "        axes[i].set_visible(False)\n",
    "    \n",
    "    plt.tight_layout()\n",
    "    plt.show()"
   ]
  },
  {
   "cell_type": "code",
   "execution_count": 23,
   "id": "7f8bba540fc6f43a",
   "metadata": {
    "collapsed": false,
    "ExecuteTime": {
     "end_time": "2024-04-30T01:56:52.014424800Z",
     "start_time": "2024-04-30T01:56:51.410351500Z"
    }
   },
   "outputs": [
    {
     "data": {
      "text/plain": "<Figure size 1500x500 with 5 Axes>",
      "image/png": "[encoded data removed]"
     },
     "metadata": {},
     "output_type": "display_data"
    }
   ],
   "source": [
    "heavy_outliers = ['Rundvekt', 'Varighet', 'Trekkavstand', 'Havdybde start']\n",
    "draw_boxplots(heavy_outliers)"
   ]
  },
  {
   "cell_type": "markdown",
   "id": "5760713d56ac9830",
   "metadata": {
    "collapsed": false
   },
   "source": [
    "We observe a large amount of outliers in these variables. Now, we will count the number of outliers."
   ]
  },
  {
   "cell_type": "code",
   "execution_count": 24,
   "id": "e8bf98082c3c66ad",
   "metadata": {
    "collapsed": false,
    "ExecuteTime": {
     "end_time": "2024-04-30T01:56:52.019891Z",
     "start_time": "2024-04-30T01:56:52.014424800Z"
    }
   },
   "outputs": [],
   "source": [
    "def find_outlier_value(feature : str):\n",
    "    q1 = df[feature].quantile(0.25)\n",
    "    q3 = df[feature].quantile(0.75)\n",
    "    iqr = q3 - q1\n",
    "    \n",
    "    lower_bound = q1 - 1.5 * iqr\n",
    "    upper_bound = q3 + 1.5 * iqr\n",
    "    lower_bound_extreme = q1 - 3 * iqr\n",
    "    upper_bound_extreme = q3 + 3 * iqr\n",
    "    \n",
    "    return lower_bound, upper_bound, lower_bound_extreme, upper_bound_extreme"
   ]
  },
  {
   "cell_type": "code",
   "execution_count": 25,
   "id": "aeab635c784e9258",
   "metadata": {
    "collapsed": false,
    "ExecuteTime": {
     "end_time": "2024-04-30T01:56:52.097191800Z",
     "start_time": "2024-04-30T01:56:52.017887200Z"
    }
   },
   "outputs": [
    {
     "name": "stdout",
     "output_type": "stream",
     "text": [
      "          Feature  Outliers  Extreme outliers\n",
      "0        Rundvekt     44106             30123\n",
      "1        Varighet     24844              4132\n",
      "2    Trekkavstand      5656               997\n",
      "3  Havdybde start      9919              3290\n"
     ]
    }
   ],
   "source": [
    "shape = []\n",
    "\n",
    "for feature in heavy_outliers:\n",
    "    lower, upper, lower_extreme, upper_extreme = find_outlier_value(feature)\n",
    "    count = df.query(f'(`{feature}` < @lower) or (`{feature}` > @upper)').shape[0]\n",
    "    count_extreme = df.query(f'(`{feature}` < @lower_extreme) or (`{feature}` > @upper_extreme)').shape[0]\n",
    "    shape.append({'Feature': feature, 'Outliers': count, 'Extreme outliers': count_extreme})\n",
    "\n",
    "outliers_df = pd.DataFrame(shape)\n",
    "print(outliers_df)"
   ]
  },
  {
   "cell_type": "markdown",
   "id": "1952452d24a768a9",
   "metadata": {
    "collapsed": false
   },
   "source": [
    "We have many (extreme) outliers, specificly in the feature \"Rundvekt\". This may have a negative effect on our models, and we therefore need to take action. We will come back to this when we talk about scaling."
   ]
  },
  {
   "cell_type": "markdown",
   "id": "ea0bd0d0a3530cb4",
   "metadata": {
    "collapsed": false
   },
   "source": [
    "### Categorizing date variable\n",
    "\n",
    "In order for us to better be able to use and analyze information currently contained in 'Starttidspunkt', we have to engage in some feature engineering. Right now, each datetime object is a unique continuous value. This makes it hard to spot potential patterns regarding dates and time. Binning these into their respective season makes it easier to handle."
   ]
  },
  {
   "cell_type": "code",
   "execution_count": 26,
   "id": "51999c9f32638413",
   "metadata": {
    "collapsed": false,
    "ExecuteTime": {
     "end_time": "2024-04-30T01:56:52.241851800Z",
     "start_time": "2024-04-30T01:56:52.080176900Z"
    }
   },
   "outputs": [],
   "source": [
    "df['month'] = df['Starttidspunkt'].dt.month\n",
    "df = df.drop(['Starttidspunkt'], axis=1)\n",
    "\n",
    "def map_to_season(month):\n",
    "    if month in [12, 1, 2]:\n",
    "        return 'Winter'\n",
    "    elif month in [3, 4, 5]:\n",
    "        return 'Spring'\n",
    "    elif month in [6, 7, 8]:\n",
    "        return 'Summer'\n",
    "    else:\n",
    "        return 'Fall'\n",
    "\n",
    "df['Season'] = df['month'].apply(map_to_season)\n",
    "\n",
    "df = pd.get_dummies(df, columns=['Season'])\n",
    "df = df.drop(['month'], axis=1)"
   ]
  },
  {
   "cell_type": "markdown",
   "id": "43c61c44342296ea",
   "metadata": {
    "collapsed": false
   },
   "source": [
    "### Counting categorical features\n",
    "\n",
    "When we will build our models, many of the models we will build do not directly support categorical data. We need to give these values a numerical value, for example through one hot encoding. This process turn our 20+ columns into hundreds of columns. This results in increasing complexity, which can make some of our models, like KNN, perform worse (Müller, 2016, p. 44). An easy way to reduce the complexity is to remove insignificant values from the categories."
   ]
  },
  {
   "cell_type": "code",
   "execution_count": 27,
   "id": "53c2071acc54a26c",
   "metadata": {
    "collapsed": false,
    "ExecuteTime": {
     "end_time": "2024-04-30T01:56:52.247026300Z",
     "start_time": "2024-04-30T01:56:52.242354200Z"
    }
   },
   "outputs": [],
   "source": [
    "def count_unique_values(df: pd.DataFrame, category: str):\n",
    "    count = df[category].value_counts()\n",
    "    \n",
    "    percentage = df[category].value_counts(normalize=True) * 100\n",
    "    \n",
    "    result = pd.DataFrame({\n",
    "    'Count': count,\n",
    "    'Percentage': percentage\n",
    "    })\n",
    "    \n",
    "    return result"
   ]
  },
  {
   "cell_type": "code",
   "execution_count": 28,
   "id": "25e6d3b6faa5b96c",
   "metadata": {
    "collapsed": false,
    "ExecuteTime": {
     "end_time": "2024-04-30T01:56:52.248534100Z",
     "start_time": "2024-04-30T01:56:52.245200400Z"
    }
   },
   "outputs": [],
   "source": [
    "def unique_values_below_percentage(df: pd.DataFrame, category: str, target: float):\n",
    "    percentage = df[category].value_counts(normalize=True) * 100\n",
    "    \n",
    "    less_than_target = percentage[percentage < target]\n",
    "    \n",
    "    num_values = less_than_target.count()\n",
    "    num_rows = df[category].value_counts().loc[less_than_target.index].sum()\n",
    "    \n",
    "    return num_values, num_rows"
   ]
  },
  {
   "cell_type": "code",
   "execution_count": 29,
   "id": "e54c9499716fe673",
   "metadata": {
    "collapsed": false,
    "ExecuteTime": {
     "end_time": "2024-04-30T01:56:52.292553400Z",
     "start_time": "2024-04-30T01:56:52.248534100Z"
    }
   },
   "outputs": [
    {
     "data": {
      "text/plain": "                     Count  Percentage\nArt - FDIR                            \nTorsk                56079   18.958226\nSei                  42299   14.299720\nHyse                 38792   13.114133\nLange                17259    5.834626\nUer (vanlig)         14121    4.773785\n...                    ...         ...\nSkjeggtorsk              1    0.000338\nSagtang                  1    0.000338\nAnnen makrell            1    0.000338\nBlåhval                  1    0.000338\nBukstripet pelamide      1    0.000338\n\n[118 rows x 2 columns]",
      "text/html": "<div>\n<style scoped>\n    .dataframe tbody tr th:only-of-type {\n        vertical-align: middle;\n    }\n\n    .dataframe tbody tr th {\n        vertical-align: top;\n    }\n\n    .dataframe thead th {\n        text-align: right;\n    }\n</style>\n<table border=\"1\" class=\"dataframe\">\n  <thead>\n    <tr style=\"text-align: right;\">\n      <th></th>\n      <th>Count</th>\n      <th>Percentage</th>\n    </tr>\n    <tr>\n      <th>Art - FDIR</th>\n      <th></th>\n      <th></th>\n    </tr>\n  </thead>\n  <tbody>\n    <tr>\n      <th>Torsk</th>\n      <td>56079</td>\n      <td>18.958226</td>\n    </tr>\n    <tr>\n      <th>Sei</th>\n      <td>42299</td>\n      <td>14.299720</td>\n    </tr>\n    <tr>\n      <th>Hyse</th>\n      <td>38792</td>\n      <td>13.114133</td>\n    </tr>\n    <tr>\n      <th>Lange</th>\n      <td>17259</td>\n      <td>5.834626</td>\n    </tr>\n    <tr>\n      <th>Uer (vanlig)</th>\n      <td>14121</td>\n      <td>4.773785</td>\n    </tr>\n    <tr>\n      <th>...</th>\n      <td>...</td>\n      <td>...</td>\n    </tr>\n    <tr>\n      <th>Skjeggtorsk</th>\n      <td>1</td>\n      <td>0.000338</td>\n    </tr>\n    <tr>\n      <th>Sagtang</th>\n      <td>1</td>\n      <td>0.000338</td>\n    </tr>\n    <tr>\n      <th>Annen makrell</th>\n      <td>1</td>\n      <td>0.000338</td>\n    </tr>\n    <tr>\n      <th>Blåhval</th>\n      <td>1</td>\n      <td>0.000338</td>\n    </tr>\n    <tr>\n      <th>Bukstripet pelamide</th>\n      <td>1</td>\n      <td>0.000338</td>\n    </tr>\n  </tbody>\n</table>\n<p>118 rows × 2 columns</p>\n</div>"
     },
     "execution_count": 29,
     "metadata": {},
     "output_type": "execute_result"
    }
   ],
   "source": [
    "count_unique_values(df, \"Art - FDIR\")"
   ]
  },
  {
   "cell_type": "markdown",
   "source": [
    "We observe that many Art has 118 columns, 11 of which only have 1 observation. We will investigate if we can remove some of these values from our dataset"
   ],
   "metadata": {
    "collapsed": false
   },
   "id": "91218c3a7582f42"
  },
  {
   "cell_type": "code",
   "execution_count": 30,
   "id": "d57caf32121f2d71",
   "metadata": {
    "collapsed": false,
    "ExecuteTime": {
     "end_time": "2024-04-30T01:56:52.292553400Z",
     "start_time": "2024-04-30T01:56:52.275873700Z"
    }
   },
   "outputs": [],
   "source": [
    "def print_unique():\n",
    "    print(f\"Number of unique values in column below {target_percentage} %: {values}\")\n",
    "    print(f\"Number of rows {rows}\")"
   ]
  },
  {
   "cell_type": "code",
   "execution_count": 31,
   "id": "137e8951ab2a0d80",
   "metadata": {
    "collapsed": false,
    "ExecuteTime": {
     "end_time": "2024-04-30T01:56:52.303568100Z",
     "start_time": "2024-04-30T01:56:52.278650500Z"
    }
   },
   "outputs": [
    {
     "name": "stdout",
     "output_type": "stream",
     "text": [
      "Number of unique values in column below 0.05 %: 63\n",
      "Number of rows 1657\n"
     ]
    }
   ],
   "source": [
    "target_percentage = 0.05\n",
    "values, rows = unique_values_below_percentage(df, \"Art - FDIR\", target_percentage)\n",
    "print(f\"Number of unique values in column below {target_percentage} %: {values}\")\n",
    "print(f\"Number of rows {rows}\")"
   ]
  },
  {
   "cell_type": "code",
   "execution_count": 32,
   "id": "f51f6292b75dc211",
   "metadata": {
    "collapsed": false,
    "ExecuteTime": {
     "end_time": "2024-04-30T01:56:52.388496600Z",
     "start_time": "2024-04-30T01:56:52.305568Z"
    }
   },
   "outputs": [
    {
     "name": "stdout",
     "output_type": "stream",
     "text": [
      "Number of unique values in column below 0.05 %: 14\n",
      "Number of rows 757\n"
     ]
    }
   ],
   "source": [
    "target_percentage = 0.05\n",
    "values, rows = unique_values_below_percentage(df, \"Hovedområde start\", target_percentage)\n",
    "print(f\"Number of unique values in column below {target_percentage} %: {values}\")\n",
    "print(f\"Number of rows {rows}\")"
   ]
  },
  {
   "cell_type": "markdown",
   "id": "e121000921368e77",
   "metadata": {
    "collapsed": false
   },
   "source": [
    "By removing values which have less than 0.05 % observations we will reduce the number of columns after one hot encoding by over 70 columns. This should hopefully make our models perform better."
   ]
  },
  {
   "cell_type": "code",
   "execution_count": 33,
   "id": "bea9857bb872afe7",
   "metadata": {
    "collapsed": false,
    "ExecuteTime": {
     "end_time": "2024-04-30T01:56:52.389495800Z",
     "start_time": "2024-04-30T01:56:52.327647Z"
    }
   },
   "outputs": [],
   "source": [
    "def remove_values_below_percentage(df: pd.DataFrame, category: str, target: float):\n",
    "    percentage = df[category].value_counts(normalize=True) * 100\n",
    "    \n",
    "    less_than_target = percentage[percentage < target]\n",
    "    \n",
    "    return df[~df[category].isin(less_than_target.index)]"
   ]
  },
  {
   "cell_type": "code",
   "execution_count": 34,
   "id": "6f320847711fe0b",
   "metadata": {
    "collapsed": false,
    "ExecuteTime": {
     "end_time": "2024-04-30T01:56:52.466221700Z",
     "start_time": "2024-04-30T01:56:52.330969400Z"
    }
   },
   "outputs": [],
   "source": [
    "df = remove_values_below_percentage(df, \"Art - FDIR\", target_percentage)\n",
    "df = remove_values_below_percentage(df, \"Hovedområde start\", target_percentage)\n",
    "df = remove_values_below_percentage(df, \"Redskap FDIR\", target_percentage)"
   ]
  },
  {
   "cell_type": "markdown",
   "id": "752429910ffdaa71",
   "metadata": {
    "collapsed": false
   },
   "source": [
    "## Step 4 : Feature relationship\n",
    "\n",
    "Now that we have explored the individual variables by themselves, we will do a multivariate analysis. This will help us understand the relationship between the variables in the dataset.\n",
    "\n",
    "We'll start by using a pair-plot of the numerical variables."
   ]
  },
  {
   "cell_type": "code",
   "execution_count": 2,
   "id": "c5cce43328911a0e",
   "metadata": {
    "collapsed": false,
    "ExecuteTime": {
     "end_time": "2024-04-30T02:55:40.991535600Z",
     "start_time": "2024-04-30T02:55:40.724373100Z"
    }
   },
   "outputs": [],
   "source": [
    "features_numeric = ['Fartøylengde', 'Rundvekt', 'Varighet', 'Trekkavstand', 'Havdybde start']"
   ]
  },
  {
   "cell_type": "code",
   "execution_count": 3,
   "id": "45057d419a3bd02b",
   "metadata": {
    "collapsed": false,
    "ExecuteTime": {
     "end_time": "2024-04-30T02:55:41.088730600Z",
     "start_time": "2024-04-30T02:55:40.726847500Z"
    }
   },
   "outputs": [
    {
     "ename": "NameError",
     "evalue": "name 'sns' is not defined",
     "output_type": "error",
     "traceback": [
      "\u001B[1;31m---------------------------------------------------------------------------\u001B[0m",
      "\u001B[1;31mNameError\u001B[0m                                 Traceback (most recent call last)",
      "Cell \u001B[1;32mIn[3], line 1\u001B[0m\n\u001B[1;32m----> 1\u001B[0m \u001B[43msns\u001B[49m\u001B[38;5;241m.\u001B[39mpairplot(\n\u001B[0;32m      2\u001B[0m     data\u001B[38;5;241m=\u001B[39mdf,\n\u001B[0;32m      3\u001B[0m     \u001B[38;5;28mvars\u001B[39m\u001B[38;5;241m=\u001B[39mfeatures_numeric,\n\u001B[0;32m      4\u001B[0m     hue\u001B[38;5;241m=\u001B[39m\u001B[38;5;124m'\u001B[39m\u001B[38;5;124mRedskap FDIR\u001B[39m\u001B[38;5;124m'\u001B[39m,\n\u001B[0;32m      5\u001B[0m )\n\u001B[0;32m      6\u001B[0m plt\u001B[38;5;241m.\u001B[39mshow()\n",
      "\u001B[1;31mNameError\u001B[0m: name 'sns' is not defined"
     ]
    }
   ],
   "source": [
    "sns.pairplot(\n",
    "    data=df,\n",
    "    vars=features_numeric,\n",
    "    hue='Redskap FDIR',\n",
    ")\n",
    "plt.show()"
   ]
  },
  {
   "cell_type": "markdown",
   "id": "2e3bf214859fb670",
   "metadata": {
    "collapsed": false
   },
   "source": [
    "Here we see that there is clearly a pattern between \"Fartøylengde\" and \"Rundvekt\". IT also appears to be some pattern of \"Havdybde start\" and \"Redskap FDIR\".\n",
    "\n",
    "We can also create a correlation matrix to explore the linear association between our variables."
   ]
  },
  {
   "cell_type": "code",
   "execution_count": 4,
   "id": "f880f3628589dbfa",
   "metadata": {
    "collapsed": false,
    "ExecuteTime": {
     "start_time": "2024-04-30T02:55:40.755706900Z"
    }
   },
   "outputs": [
    {
     "ename": "NameError",
     "evalue": "name 'df' is not defined",
     "output_type": "error",
     "traceback": [
      "\u001B[1;31m---------------------------------------------------------------------------\u001B[0m",
      "\u001B[1;31mNameError\u001B[0m                                 Traceback (most recent call last)",
      "Cell \u001B[1;32mIn[4], line 4\u001B[0m\n\u001B[0;32m      1\u001B[0m features \u001B[38;5;241m=\u001B[39m [ \u001B[38;5;124m'\u001B[39m\u001B[38;5;124mSeason_Winter\u001B[39m\u001B[38;5;124m'\u001B[39m, \u001B[38;5;124m'\u001B[39m\u001B[38;5;124mSeason_Spring\u001B[39m\u001B[38;5;124m'\u001B[39m,\u001B[38;5;124m'\u001B[39m\u001B[38;5;124mSeason_Summer\u001B[39m\u001B[38;5;124m'\u001B[39m, \n\u001B[0;32m      2\u001B[0m             \u001B[38;5;124m'\u001B[39m\u001B[38;5;124mSeason_Fall\u001B[39m\u001B[38;5;124m'\u001B[39m, \u001B[38;5;124m'\u001B[39m\u001B[38;5;124mFartøylengde\u001B[39m\u001B[38;5;124m'\u001B[39m, \u001B[38;5;124m'\u001B[39m\u001B[38;5;124mRundvekt\u001B[39m\u001B[38;5;124m'\u001B[39m, \u001B[38;5;124m'\u001B[39m\u001B[38;5;124mVarighet\u001B[39m\u001B[38;5;124m'\u001B[39m,\n\u001B[0;32m      3\u001B[0m             \u001B[38;5;124m'\u001B[39m\u001B[38;5;124mTrekkavstand\u001B[39m\u001B[38;5;124m'\u001B[39m, \u001B[38;5;124m'\u001B[39m\u001B[38;5;124mHavdybde start\u001B[39m\u001B[38;5;124m'\u001B[39m]\n\u001B[1;32m----> 4\u001B[0m df_corr \u001B[38;5;241m=\u001B[39m \u001B[43mdf\u001B[49m[features]\u001B[38;5;241m.\u001B[39mcorr()\n\u001B[0;32m      5\u001B[0m sns\u001B[38;5;241m.\u001B[39mheatmap(df_corr, annot\u001B[38;5;241m=\u001B[39m\u001B[38;5;28;01mTrue\u001B[39;00m)\n",
      "\u001B[1;31mNameError\u001B[0m: name 'df' is not defined"
     ]
    }
   ],
   "source": [
    "features = [ 'Season_Winter', 'Season_Spring','Season_Summer', \n",
    "            'Season_Fall', 'Fartøylengde', 'Rundvekt', 'Varighet',\n",
    "            'Trekkavstand', 'Havdybde start']\n",
    "df_corr = df[features].corr()\n",
    "sns.heatmap(df_corr, annot=True)"
   ]
  },
  {
   "cell_type": "markdown",
   "id": "7e1dcf64",
   "metadata": {},
   "source": [
    "While there few highly correlated values, we can see that 'Fartøylengde' is somewhat correlated with both 'Rundvekt' and 'Havdybde_start'. In addition, there seems to be an increase in distance ('Trekkavstand') during winter compared to the other seasons."
   ]
  },
  {
   "cell_type": "markdown",
   "id": "7ea90ecac6a514ea",
   "metadata": {
    "collapsed": false
   },
   "source": [
    "### Categorical variables\n",
    "\n",
    "A method we can use to see how our categorical variables relate to our numerical target variable, is analysis of variance (Anova). Anova is used to determine if there is statistically significant difference between three or more unrelated groups (The University of Utah, 2024)"
   ]
  },
  {
   "cell_type": "code",
   "execution_count": 5,
   "id": "cd39c0c6e1338deb",
   "metadata": {
    "collapsed": false,
    "ExecuteTime": {
     "end_time": "2024-04-30T02:55:41.103236700Z",
     "start_time": "2024-04-30T02:55:40.779153300Z"
    }
   },
   "outputs": [],
   "source": [
    "from scipy import stats\n",
    "\n",
    "def calculate_anova(target, features):\n",
    "    shape = []\n",
    "    for feature in features:\n",
    "        anova_result = stats.f_oneway(*[group[target].values for name, group in df.groupby(feature)])\n",
    "        \n",
    "        shape.append({'Feature': feature, \"Values\": f\"F={anova_result.statistic}, p-value={anova_result.pvalue}\"})\n",
    "    \n",
    "    return pd.DataFrame(shape)"
   ]
  },
  {
   "cell_type": "code",
   "execution_count": 6,
   "id": "640e72965e8b9514",
   "metadata": {
    "collapsed": false,
    "ExecuteTime": {
     "start_time": "2024-04-30T02:55:40.782117300Z"
    }
   },
   "outputs": [
    {
     "ename": "NameError",
     "evalue": "name 'df' is not defined",
     "output_type": "error",
     "traceback": [
      "\u001B[1;31m---------------------------------------------------------------------------\u001B[0m",
      "\u001B[1;31mNameError\u001B[0m                                 Traceback (most recent call last)",
      "Cell \u001B[1;32mIn[6], line 3\u001B[0m\n\u001B[0;32m      1\u001B[0m features_categorical \u001B[38;5;241m=\u001B[39m [\u001B[38;5;124m\"\u001B[39m\u001B[38;5;124mArt - FDIR\u001B[39m\u001B[38;5;124m\"\u001B[39m, \u001B[38;5;124m\"\u001B[39m\u001B[38;5;124mRedskap FDIR\u001B[39m\u001B[38;5;124m\"\u001B[39m, \u001B[38;5;124m\"\u001B[39m\u001B[38;5;124mHovedområde start\u001B[39m\u001B[38;5;124m\"\u001B[39m]\n\u001B[1;32m----> 3\u001B[0m \u001B[43mcalculate_anova\u001B[49m\u001B[43m(\u001B[49m\u001B[38;5;124;43m\"\u001B[39;49m\u001B[38;5;124;43mRundvekt\u001B[39;49m\u001B[38;5;124;43m\"\u001B[39;49m\u001B[43m,\u001B[49m\u001B[43m \u001B[49m\u001B[43m[\u001B[49m\u001B[38;5;124;43m\"\u001B[39;49m\u001B[38;5;124;43mArt - FDIR\u001B[39;49m\u001B[38;5;124;43m\"\u001B[39;49m\u001B[43m,\u001B[49m\u001B[43m \u001B[49m\u001B[38;5;124;43m\"\u001B[39;49m\u001B[38;5;124;43mRedskap FDIR\u001B[39;49m\u001B[38;5;124;43m\"\u001B[39;49m\u001B[43m,\u001B[49m\u001B[43m \u001B[49m\u001B[38;5;124;43m\"\u001B[39;49m\u001B[38;5;124;43mHovedområde start\u001B[39;49m\u001B[38;5;124;43m\"\u001B[39;49m\u001B[43m]\u001B[49m\u001B[43m)\u001B[49m\n",
      "Cell \u001B[1;32mIn[5], line 6\u001B[0m, in \u001B[0;36mcalculate_anova\u001B[1;34m(target, features)\u001B[0m\n\u001B[0;32m      4\u001B[0m shape \u001B[38;5;241m=\u001B[39m []\n\u001B[0;32m      5\u001B[0m \u001B[38;5;28;01mfor\u001B[39;00m feature \u001B[38;5;129;01min\u001B[39;00m features:\n\u001B[1;32m----> 6\u001B[0m     anova_result \u001B[38;5;241m=\u001B[39m stats\u001B[38;5;241m.\u001B[39mf_oneway(\u001B[38;5;241m*\u001B[39m[group[target]\u001B[38;5;241m.\u001B[39mvalues \u001B[38;5;28;01mfor\u001B[39;00m name, group \u001B[38;5;129;01min\u001B[39;00m \u001B[43mdf\u001B[49m\u001B[38;5;241m.\u001B[39mgroupby(feature)])\n\u001B[0;32m      8\u001B[0m     shape\u001B[38;5;241m.\u001B[39mappend({\u001B[38;5;124m'\u001B[39m\u001B[38;5;124mFeature\u001B[39m\u001B[38;5;124m'\u001B[39m: feature, \u001B[38;5;124m\"\u001B[39m\u001B[38;5;124mValues\u001B[39m\u001B[38;5;124m\"\u001B[39m: \u001B[38;5;124mf\u001B[39m\u001B[38;5;124m\"\u001B[39m\u001B[38;5;124mF=\u001B[39m\u001B[38;5;132;01m{\u001B[39;00manova_result\u001B[38;5;241m.\u001B[39mstatistic\u001B[38;5;132;01m}\u001B[39;00m\u001B[38;5;124m, p-value=\u001B[39m\u001B[38;5;132;01m{\u001B[39;00manova_result\u001B[38;5;241m.\u001B[39mpvalue\u001B[38;5;132;01m}\u001B[39;00m\u001B[38;5;124m\"\u001B[39m})\n\u001B[0;32m     10\u001B[0m \u001B[38;5;28;01mreturn\u001B[39;00m pd\u001B[38;5;241m.\u001B[39mDataFrame(shape)\n",
      "\u001B[1;31mNameError\u001B[0m: name 'df' is not defined"
     ]
    }
   ],
   "source": [
    "features_categorical = [\"Art - FDIR\", \"Redskap FDIR\", \"Hovedområde start\"]\n",
    "\n",
    "calculate_anova(\"Rundvekt\", [\"Art - FDIR\", \"Redskap FDIR\", \"Hovedområde start\"])"
   ]
  },
  {
   "cell_type": "markdown",
   "id": "54da16a18b0bd5ed",
   "metadata": {
    "collapsed": false
   },
   "source": [
    "A low p-value indicates that the groups in the variable have significant differance. A large F-value like is an indication that a significant portion of the variance in \"Rundvekt\" is explained by the variance of the groups in the other variable.\n",
    "\n",
    "To support this argument we will graph these categorical variables with \"Rundvekt\". "
   ]
  },
  {
   "cell_type": "code",
   "execution_count": null,
   "id": "403925353fb5a464",
   "metadata": {
    "collapsed": false,
    "ExecuteTime": {
     "start_time": "2024-04-30T02:55:40.798623600Z"
    }
   },
   "outputs": [],
   "source": [
    "categorical_variables = [\"Art - FDIR\", \"Redskap FDIR\", \"Hovedområde start\"]\n",
    "colors = [\"Blue\", \"red\", \"green\"]\n",
    "fig, axes = plt.subplots(1, 3, figsize=(18, 12))\n",
    "\n",
    "for i, category in enumerate(categorical_variables):\n",
    "    axes[i].scatter(df[\"Rundvekt\"], df[category], alpha=0.1, color=colors[i % len(colors)])\n",
    "    axes[i].set_title(category)\n",
    "    axes[i].set_xlabel(\"Rundvekt\")\n",
    "    axes[i].set_ylabel(\"Values\")\n",
    "\n",
    "plt.tight_layout()\n",
    "plt.show()"
   ]
  },
  {
   "cell_type": "markdown",
   "id": "1e232e81b3de9027",
   "metadata": {
    "collapsed": false
   },
   "source": [
    "This confirms a large spread difference between the groups of the categorical variables, and we can conclude that these features have some significance for explaining \"Rundvekt\"."
   ]
  },
  {
   "cell_type": "markdown",
   "source": [
    "### One hot encoding"
   ],
   "metadata": {
    "collapsed": false
   },
   "id": "a6eb5162c86c8bf2"
  },
  {
   "cell_type": "code",
   "execution_count": 7,
   "id": "5dfab6ef63fcff5",
   "metadata": {
    "collapsed": false,
    "ExecuteTime": {
     "start_time": "2024-04-30T02:55:40.805623700Z"
    }
   },
   "outputs": [
    {
     "ename": "NameError",
     "evalue": "name 'df' is not defined",
     "output_type": "error",
     "traceback": [
      "\u001B[1;31m---------------------------------------------------------------------------\u001B[0m",
      "\u001B[1;31mNameError\u001B[0m                                 Traceback (most recent call last)",
      "Cell \u001B[1;32mIn[7], line 5\u001B[0m\n\u001B[0;32m      1\u001B[0m features \u001B[38;5;241m=\u001B[39m [ \u001B[38;5;124m'\u001B[39m\u001B[38;5;124mSeason_Winter\u001B[39m\u001B[38;5;124m'\u001B[39m, \u001B[38;5;124m'\u001B[39m\u001B[38;5;124mSeason_Spring\u001B[39m\u001B[38;5;124m'\u001B[39m,\u001B[38;5;124m'\u001B[39m\u001B[38;5;124mSeason_Summer\u001B[39m\u001B[38;5;124m'\u001B[39m, \n\u001B[0;32m      2\u001B[0m             \u001B[38;5;124m'\u001B[39m\u001B[38;5;124mSeason_Fall\u001B[39m\u001B[38;5;124m'\u001B[39m, \u001B[38;5;124m'\u001B[39m\u001B[38;5;124mFartøylengde\u001B[39m\u001B[38;5;124m'\u001B[39m, \u001B[38;5;124m'\u001B[39m\u001B[38;5;124mRundvekt\u001B[39m\u001B[38;5;124m'\u001B[39m, \u001B[38;5;124m'\u001B[39m\u001B[38;5;124mVarighet\u001B[39m\u001B[38;5;124m'\u001B[39m,\n\u001B[0;32m      3\u001B[0m             \u001B[38;5;124m'\u001B[39m\u001B[38;5;124mTrekkavstand\u001B[39m\u001B[38;5;124m'\u001B[39m, \u001B[38;5;124m'\u001B[39m\u001B[38;5;124mHavdybde start\u001B[39m\u001B[38;5;124m'\u001B[39m, \u001B[38;5;124m'\u001B[39m\u001B[38;5;124mArt - FDIR\u001B[39m\u001B[38;5;124m'\u001B[39m, \u001B[38;5;124m'\u001B[39m\u001B[38;5;124mHovedområde start\u001B[39m\u001B[38;5;124m'\u001B[39m, \u001B[38;5;124m'\u001B[39m\u001B[38;5;124mRedskap FDIR\u001B[39m\u001B[38;5;124m'\u001B[39m]\n\u001B[1;32m----> 5\u001B[0m df_n \u001B[38;5;241m=\u001B[39m \u001B[43mdf\u001B[49m[features]\u001B[38;5;241m.\u001B[39mcopy()\n",
      "\u001B[1;31mNameError\u001B[0m: name 'df' is not defined"
     ]
    }
   ],
   "source": [
    "features = [ 'Season_Winter', 'Season_Spring','Season_Summer', \n",
    "            'Season_Fall', 'Fartøylengde', 'Rundvekt', 'Varighet',\n",
    "            'Trekkavstand', 'Havdybde start', 'Art - FDIR', 'Hovedområde start', 'Redskap FDIR']\n",
    "\n",
    "df_n = df[features].copy()\n"
   ]
  },
  {
   "cell_type": "code",
   "execution_count": null,
   "id": "fba99abcdd9f7c0c",
   "metadata": {
    "collapsed": false,
    "ExecuteTime": {
     "start_time": "2024-04-30T02:55:40.815731100Z"
    }
   },
   "outputs": [],
   "source": [
    "df_n = pd.get_dummies(df_n, columns=['Art - FDIR'])\n",
    "df_n = pd.get_dummies(df_n, columns=['Redskap FDIR'])\n",
    "df_n = pd.get_dummies(df_n, columns=['Hovedområde start'])\n"
   ]
  },
  {
   "cell_type": "code",
   "execution_count": null,
   "id": "d986f424cb1c9203",
   "metadata": {
    "collapsed": false,
    "ExecuteTime": {
     "start_time": "2024-04-30T02:55:40.816731200Z"
    }
   },
   "outputs": [],
   "source": [
    "df_n"
   ]
  },
  {
   "cell_type": "markdown",
   "id": "fc62eedffc58d02",
   "metadata": {
    "collapsed": false
   },
   "source": [
    "<a id=\"part_b\"></a>\n",
    "## Part B - Supervised learning"
   ]
  },
  {
   "cell_type": "markdown",
   "id": "98c2e68a",
   "metadata": {},
   "source": [
    "Now that we have pre-processed and analyzed our data, we are going to train three models using a machine learning technique called 'supervised learning'.\n",
    "A model that generalizes well, will (hopefully) be able to predict live weight values based on the information it gets from the other features of our dataset. \n",
    "But in order to make a prediction about unlabeled data, it might be useful to let it train on a big chunk of labeled data. By 'labeled data' we mean data that contains the correct answer(label). This enables it to map certain feature values/patterns to specific values of live weight. \n",
    "\n",
    "### Regression vs Classification\n",
    "\n",
    "The aim for a classification algorithm is to predict a correct label in the form of a categorical value or a limited, discrete set of integers. This label is taken from a predefined list of possible options. We can measure a classifiers performance by analyzing the amount of true positives, false positives, true negatives and false negatives.\n",
    "\n",
    "As seen in the dataframe, live weight is a continuous number and thus we can't use a classifier to make predictions about its values. This is a regression problem, so the predictions are going to be real numbers calculated based on a local average or a fitted line through the data set. Our aim is to train a model that is able to predict values as close as possible to the target values. \n",
    "\n",
    "### Evaluation\n",
    "\n",
    "Pre preparation the dataset and fine-tuning of different hyperparameters should hopefully result in a model that performs better than before we made the adjustments, but how do we know that it is improving?\n",
    "\n",
    "For regression models there are several metrics that can offer us an insight into our models performance.\n",
    "In this task we are going to use both the Mean Squared Error(MSE) and the R^2 score.\n",
    "\n",
    "MSE measures the average squared difference between the actual and predicted values of the dependent variable. The value of the MSE itself largely depends on the scale of the values in our dataset, so a large or small number does not tell us much on its own.\n",
    "\n",
    "The R^2 score gives us a value between 0 and 1 that indicates the proportion of the variance in the dependent variable that is predictable from the independent variables. In other words, it gives us a way of measuring how well our chosen features explains the variance in the target variable.\n",
    "\n",
    "### Grid search\n",
    "\n",
    "Each model depends on specific parameters being set to be able before it can be used for training and predictions. Since knowing the optimal values for each parameter is nearly impossible without some tweaking, we will make use of SKlearn's GridSearchCv. Grid Search works like a for loop, and allows us to test several different values in search for the best parameter values.\n",
    "\n",
    "### Cross validation\n",
    "\n",
    "Cross validation is the process of splitting our non-test data into a training set and a validation set. The model is trained and uses the validation to score its performance. By dividing the non-test data into $k$ datasets. Each time, you use $k-1$ datasets for training and 1 for validation. This is a process called k-fold cross validation.\n",
    "\n",
    "By doing so one can measure the stability of our model. Since the model is trained with some unique data $k$ times, we can detect whether the model perform differently depending on the data given (Poole, 2024)."
   ]
  },
  {
   "cell_type": "markdown",
   "id": "cd51761f",
   "metadata": {},
   "source": [
    "# Random Forest\n",
    "\n",
    "A random forest is an ensemble of decision trees. Decision trees have a tendency to overfit and therefore generalize poorly to new data. The random forest deals with this by using several decision trees that are all created in a different, slightly random way. The predictions of a regression based forest are made by averaging the results produced by the individual decision trees.\n",
    "\n",
    "Each feature is treated separately from the others in the individual nodes of the decision trees (if/else statements), so in random forests do not require much scaling or normalization.\n",
    "\n",
    "There are a couple of reasons for choosing a random forest for this task:\n",
    "- They tend to work well on big datasets\n",
    "- They usually require less pre processing compared to other ML algorithms\n",
    "- Overfitting is usually not an issue\n",
    "\n",
    "The parameters chosen for random forest are number of trees (n_estimators) to be 128. A larger number is always better, but higher number have diminishing return in model performance, at cost of time (Devore, p. 88). We found 128 to be a suitable number.\n",
    "\n",
    "For max_features, we selected log_2(features). This is generally a rule of thumb to be used with random forest regression (Devore, p. 88)."
   ]
  },
  {
   "cell_type": "code",
   "execution_count": 8,
   "id": "d959eb0f94464af7",
   "metadata": {
    "collapsed": false,
    "ExecuteTime": {
     "end_time": "2024-04-30T02:55:41.183776800Z",
     "start_time": "2024-04-30T02:55:40.846788800Z"
    }
   },
   "outputs": [],
   "source": [
    "from sklearn.model_selection import cross_val_score, KFold\n",
    "\n",
    "def run_rf_model(dataframe, target, number_of_trees):\n",
    "    y = dataframe[[target]]\n",
    "    X = dataframe.drop([target], axis=1)\n",
    "    \n",
    "    X_train, X_test, y_train, y_test = train_test_split(X, y, test_size=0.2, random_state=42)\n",
    "    \n",
    "    rf = RandomForestRegressor(random_state=42, n_estimators=number_of_trees, n_jobs=-1, max_features=math.ceil(math.log2(dataframe.shape[1])))\n",
    "\n",
    "    # Implementing cross-validation\n",
    "    cv = KFold(n_splits=5, shuffle=True, random_state=42)\n",
    "    cv_scores = cross_val_score(rf, X_train, np.ravel(y_train), cv=cv, scoring='neg_mean_squared_error', n_jobs=-1)\n",
    "    \n",
    "    # Fitting the model on the whole training set\n",
    "    rf.fit(X_train, np.ravel(y_train))\n",
    "\n",
    "    y_pred = rf.predict(X_test)\n",
    "    \n",
    "    mse = mean_squared_error(y_test, y_pred)\n",
    "    r2 = r2_score(y_test, y_pred)\n",
    "    \n",
    "    return rf, cv_scores, mse, r2\n"
   ]
  },
  {
   "cell_type": "code",
   "execution_count": 9,
   "id": "6c1383c166e5690b",
   "metadata": {
    "collapsed": false,
    "ExecuteTime": {
     "start_time": "2024-04-30T02:55:40.893768200Z"
    }
   },
   "outputs": [
    {
     "ename": "NameError",
     "evalue": "name 'df_n' is not defined",
     "output_type": "error",
     "traceback": [
      "\u001B[1;31m---------------------------------------------------------------------------\u001B[0m",
      "\u001B[1;31mNameError\u001B[0m                                 Traceback (most recent call last)",
      "Cell \u001B[1;32mIn[9], line 1\u001B[0m\n\u001B[1;32m----> 1\u001B[0m rf, cv_scores, mse, r2 \u001B[38;5;241m=\u001B[39m run_rf_model(\u001B[43mdf_n\u001B[49m, \u001B[38;5;124m\"\u001B[39m\u001B[38;5;124mRundvekt\u001B[39m\u001B[38;5;124m\"\u001B[39m, \u001B[38;5;241m128\u001B[39m)\n",
      "\u001B[1;31mNameError\u001B[0m: name 'df_n' is not defined"
     ]
    }
   ],
   "source": [
    "rf, cv_scores, mse, r2 = run_rf_model(df_n, \"Rundvekt\", 128)"
   ]
  },
  {
   "cell_type": "code",
   "execution_count": null,
   "outputs": [],
   "source": [
    "print(\"Random forest model results\")\n",
    "print(\"Cross-validation scores:\", cv_scores)\n",
    "print(f\"MSE: {mse:.2f}\")\n",
    "print(f\"r2 score: {r2:.2f}\")"
   ],
   "metadata": {
    "collapsed": false,
    "ExecuteTime": {
     "start_time": "2024-04-30T02:55:40.907073900Z"
    }
   },
   "id": "76601ff11c685349"
  },
  {
   "cell_type": "markdown",
   "id": "d19f63d2",
   "metadata": {},
   "source": [
    "## KNN - regression\n",
    "\n",
    "The predictions in KNN regressor are made by averaging the target values of the K nearest neighbors in the training set. The model needs every feature to be numeric, and it is sensitive to outliers. It calculates the square root of the sum of the squared differences between corresponding feature values to determine the distance between to data points. This is known as the Euclidean distance.\n",
    "\n",
    "We can specify how many neighbours (K) we want it to include.\n",
    "\n",
    "We have chosen a KNN model because its logic is quite simple compared to both the random forest and the neural network. It is interesting so see how its performance compares to the others\n"
   ]
  },
  {
   "cell_type": "code",
   "execution_count": null,
   "id": "1f8ff284",
   "metadata": {
    "ExecuteTime": {
     "start_time": "2024-04-30T02:55:40.907073900Z"
    }
   },
   "outputs": [],
   "source": [
    "df_Knn = df_n.copy()"
   ]
  },
  {
   "cell_type": "code",
   "execution_count": null,
   "id": "cc6728fc",
   "metadata": {
    "ExecuteTime": {
     "start_time": "2024-04-30T02:55:40.908384100Z"
    }
   },
   "outputs": [],
   "source": [
    "X = df_Knn.drop(['Rundvekt'], axis=1)\n",
    "y = df_Knn[['Rundvekt']]\n",
    "X_train, X_test, y_train, y_test = train_test_split(X, y, test_size=0.2, random_state=42)"
   ]
  },
  {
   "cell_type": "markdown",
   "id": "29b39c9449b9e5ac",
   "metadata": {
    "collapsed": false
   },
   "source": [
    "### Scaling\n",
    "\n",
    "Some of our models might be sensitive to the scale of the feature values. This meaning that a huge value in one of the features might make a much smaller value in another feature insignificant when calculating a result. This does not however mean that the small feature automatically should be consider less important than the larger feature when making a prediction. They simply might contain information about vastly different domains from the real world.\n",
    "\n",
    "The distance between different 'Bruttotonnasje' values results in dramatically bigger numbers compared to the distances of 'Båtlengde'. To compensate for these types of gaps in values, we should consider scaling them before training the model.\n",
    "\n",
    "SKlearn offers us a couple of different build in scaler we can use with StandardScaler, MinMax and RobustScaler as being the most common ones."
   ]
  },
  {
   "cell_type": "markdown",
   "id": "8eb5ae6e",
   "metadata": {},
   "source": [
    "We can view scaling as a part of the model itself. A pipeline comes in handy for grouping the scaler and the regressor together. \n",
    "We can give the pipeline as an argument to our GridSearchCV along with the different parameters we want to optimize, our chosen scoring metrics, and the number of cross validation groups\n",
    "\n",
    "Scaler: Because we wish to preserve the relationship between small and large values in our data set, we have chosen the Standard Scaler for KNN"
   ]
  },
  {
   "cell_type": "code",
   "execution_count": null,
   "id": "ea9348dc",
   "metadata": {
    "ExecuteTime": {
     "start_time": "2024-04-30T02:55:40.909460300Z"
    }
   },
   "outputs": [],
   "source": [
    "\n",
    "knn_pipe = Pipeline([('mms', StandardScaler()),\n",
    "                     ('knn', KNeighborsRegressor())])\n",
    "\n",
    "params = [{'knn__n_neighbors': [ 35, 50, 80],\n",
    "         'knn__weights': ['uniform', 'distance']}]\n",
    "\n",
    "gs_knn = GridSearchCV(knn_pipe,\n",
    "                      param_grid=params,\n",
    "                      scoring='neg_mean_squared_error',\n",
    "                      cv=5,\n",
    "                      n_jobs=-1)\n",
    "gs_knn.fit(X_train, y_train)\n",
    "gs_knn.best_params_"
   ]
  },
  {
   "cell_type": "code",
   "execution_count": null,
   "id": "64fa6438",
   "metadata": {
    "ExecuteTime": {
     "start_time": "2024-04-30T02:55:40.910763Z"
    }
   },
   "outputs": [],
   "source": [
    "predictions = gs_knn.predict(X_test)\n",
    "mse = mean_squared_error(y_test, predictions)\n",
    "r2 = r2_score(y_test, predictions)"
   ]
  },
  {
   "cell_type": "code",
   "execution_count": null,
   "outputs": [],
   "source": [
    "print(\"KNN model results\")\n",
    "print(f\"MSE: {mse:.2f}\")\n",
    "print(f\"r2 score: {r2:.2f}\")"
   ],
   "metadata": {
    "collapsed": false,
    "ExecuteTime": {
     "start_time": "2024-04-30T02:55:40.911766900Z"
    }
   },
   "id": "490c15d7ad6d6731"
  },
  {
   "cell_type": "markdown",
   "id": "1eb37c49",
   "metadata": {},
   "source": [
    "## Neural network/deep learning\n",
    "\n",
    "The task requires us to implement one deep learning model. 'Deep learning' refers to a family of algorithms known as neural networks. (Müller, 2016, p. 104)\n",
    "\n",
    "The type of neural network used in this task is an MLP (Multi Layered Perceptron). This is a feed forward network that uses back propagation to improve.\n",
    "\n",
    "It consists of input nodes, output node(s) and possible 'hidden layers' of nodes in between them. Each node in one layer is connected to all the nodes in the next layer, and the values passed in changes for every layer they travel. Weights and biases are added to the values as they travel from one layer to the next. The value recieved by a node is then used as input for an 'activation function' that determines new value to be passed on. Neural networks are typically trained using optimization algorithms like gradient descent, where the algorithm adjusts the model parameters (weights and biases) iteratively to minimize a loss function.\n",
    "\n",
    "We have chosen the optimization algorithm 'Adam' as our solver. The solver is used to update the model parameters during training. The choice of solver plays a crucial role in determining how weights and biases are updated.\n",
    "\n",
    "Scaler: Neural networks require input features to exhibit uniform variation, ideally centered around a mean of 0 and a variance of 1. The Standard Scaler again seem like a good choice"
   ]
  },
  {
   "cell_type": "code",
   "execution_count": null,
   "id": "2bf1d244",
   "metadata": {
    "ExecuteTime": {
     "start_time": "2024-04-30T02:55:40.912965100Z"
    }
   },
   "outputs": [],
   "source": [
    "mlp_pipe = Pipeline([\n",
    "    ('mms', StandardScaler()),\n",
    "    ('mlp', MLPRegressor())\n",
    "])\n",
    "mlp_params = {\n",
    "    'mlp__activation': ['relu'],\n",
    "    'mlp__hidden_layer_sizes': [(12, 12)], \n",
    "    'mlp__solver': ['adam'],\n",
    "    'mlp__max_iter': [100, 200, 500],\n",
    "    'mlp__random_state': [42]\n",
    "}\n",
    "\n",
    "gs_mlp = GridSearchCV(\n",
    "    estimator=mlp_pipe,\n",
    "    param_grid=mlp_params,\n",
    "    scoring='neg_mean_squared_error',\n",
    "    cv=5,\n",
    "    n_jobs=-1\n",
    ")\n",
    "\n",
    "gs_mlp.fit(X_train, np.ravel(y_train))\n",
    "mlp_y_pred = gs_mlp.predict(X_test)\n",
    "mse = mean_squared_error(y_test, mlp_y_pred)\n",
    "r2 = r2_score(y_test, mlp_y_pred)"
   ]
  },
  {
   "cell_type": "code",
   "execution_count": null,
   "id": "634420da",
   "metadata": {
    "ExecuteTime": {
     "start_time": "2024-04-30T02:55:40.913969100Z"
    }
   },
   "outputs": [],
   "source": [
    "print(\"Deep learning results\")\n",
    "print(f\"MSE: {mse:.2f}\")\n",
    "print(f\"r2 score: {r2:.2f}\")\n",
    "gs_mlp.best_params_"
   ]
  },
  {
   "cell_type": "markdown",
   "id": "b553df9e",
   "metadata": {},
   "source": [
    "<a id=\"part_c\"></a>\n",
    "## Part C: Unsupervised learning\n",
    "\n",
    "### Clustering\n",
    "\n",
    "Clustering algorithms fall under the term unsupervised learning. They aim to group similar data together into clusters, providing us with a way of discovering possible patterns in big, messy data. We as data scientists can use clustering and other forms of unsupervised learning to explore data and to understand it better. (Müller, 2016, p. 146)\n",
    "\n",
    "DBSCAN is an interesting clustering algorithm that identifies dense regions in the feature space and forms clusters based on this density of data points. This flexibile approach allows it to form clusters of complex shapes and various sizes, in this way it contrasts the alternative algorithms like K-means and agglomerative clustering.\n",
    "There is also no need to pre define the amount of clusters we want. In our case we have no pre knowledge regarding how our dataset should be partitioned into clusters, so DBSCAN seems like a reasonable choice.\n",
    "\n",
    "Scaler: The standard scaler is again a good choice. This allows us to limit the distances between the data point, \n",
    "which again makes it easier to adjust epsilon to a reasonable number"
   ]
  },
  {
   "cell_type": "code",
   "execution_count": null,
   "outputs": [],
   "source": [
    "from sklearn.preprocessing import OneHotEncoder\n",
    "from sklearn.compose import ColumnTransformer\n",
    "\n",
    "# Using a sample of 100000, because it took too long time with more\n",
    "df_copy = df.copy().sample(100000)\n",
    "\n",
    "# Preprocessing\n",
    "relevant_columns = ['Art - FDIR', 'Redskap FDIR', 'Varighet', 'Rundvekt']\n",
    "df_filtered = df_copy[relevant_columns]\n",
    "\n",
    "# Encoding categorical data\n",
    "categorical_features = ['Art - FDIR', 'Redskap FDIR']\n",
    "column_transformer = ColumnTransformer([\n",
    "    ('one_hot_encoder', OneHotEncoder(), categorical_features)\n",
    "], remainder='passthrough')\n",
    "\n",
    "# Apply column transformer\n",
    "df_encoded = column_transformer.fit_transform(df_filtered)\n",
    "\n",
    "# Feature scaling\n",
    "scaler = StandardScaler(with_mean=False)\n",
    "df_scaled = scaler.fit_transform(df_encoded)\n",
    "\n",
    "# Running DBSCAN\n",
    "dbscan = DBSCAN(eps=5, min_samples=5, n_jobs=-1)\n",
    "clusters = dbscan.fit_predict(df_scaled)\n",
    "\n",
    "df_copy['Cluster'] = clusters\n",
    "\n",
    "plt.figure(figsize=(10, 6))\n",
    "df_copy['Cluster'].value_counts().plot(kind='bar')\n",
    "plt.title('Cluster Sizes')\n",
    "plt.xlabel('Cluster')\n",
    "plt.ylabel('Number of Operations')\n",
    "plt.show()"
   ],
   "metadata": {
    "collapsed": false,
    "ExecuteTime": {
     "start_time": "2024-04-30T02:55:40.913969100Z"
    }
   },
   "id": "2dd4eb803d18828"
  },
  {
   "cell_type": "code",
   "execution_count": null,
   "outputs": [],
   "source": [
    "def plot_clusters(column: str):\n",
    "    fig, axes = plt.subplots(3, 3, figsize=(15, 15))\n",
    "    axes = axes.flatten()\n",
    "\n",
    "    for i, cluster_id in enumerate(largest_clusters):\n",
    "        cluster_data = df_copy[df_copy['Cluster'] == cluster_id]\n",
    "\n",
    "        category_counts = cluster_data[column].value_counts()\n",
    "\n",
    "        category_counts.plot(kind='pie', autopct='%1.1f%%', ax=axes[i], startangle=90, counterclock=False)\n",
    "        axes[i].set_title(f'Cluster {cluster_id}')\n",
    "        axes[i].set_ylabel('')\n",
    "\n",
    "    plt.tight_layout()\n",
    "    plt.show()"
   ],
   "metadata": {
    "collapsed": false,
    "ExecuteTime": {
     "start_time": "2024-04-30T02:55:40.914971Z"
    }
   },
   "id": "82f45c9c15a16981"
  },
  {
   "cell_type": "code",
   "execution_count": null,
   "outputs": [],
   "source": [
    "# Determine the 9 largest clusters by the number of operations\n",
    "cluster_sizes = df_copy['Cluster'].value_counts().head(9)\n",
    "largest_clusters = cluster_sizes.index.tolist()"
   ],
   "metadata": {
    "collapsed": false,
    "ExecuteTime": {
     "start_time": "2024-04-30T02:55:40.915970200Z"
    }
   },
   "id": "5fbe7256c4824a05"
  },
  {
   "cell_type": "code",
   "execution_count": null,
   "outputs": [],
   "source": [
    "plot_clusters(\"Art - FDIR\")"
   ],
   "metadata": {
    "collapsed": false,
    "ExecuteTime": {
     "start_time": "2024-04-30T02:55:40.915970200Z"
    }
   },
   "id": "7b48102e3af7e426"
  },
  {
   "cell_type": "code",
   "execution_count": null,
   "outputs": [],
   "source": [
    "plot_clusters(\"Redskap FDIR\")"
   ],
   "metadata": {
    "collapsed": false,
    "ExecuteTime": {
     "start_time": "2024-04-30T02:55:40.917473500Z"
    }
   },
   "id": "ade73d50e5012833"
  },
  {
   "cell_type": "markdown",
   "id": "e74dce5bb9e7bd5",
   "metadata": {
    "collapsed": false
   },
   "source": [
    "## References\n",
    "\n",
    "Devore, J. L. (2021). *Modern mathematical statistics with applications* (3. ed.) Springer.\n",
    "\n",
    "Müller, A. C. (2016). *Introduction to machine learning with Python : a guide for data scientists*. O'Reilly\n",
    "\n",
    "Poole, D. L. (2024, 27. april). 7.4 Overfitting. Artificial Intelligence 3E. https://artint.info/3e/html/ArtInt3e.Ch7.S4.html\n",
    "\n",
    "Poole, D. L. (2024, 27. april). 8.3 Improving Generalization. Artificial Intelligence 3E. https://artint.info/3e/html/ArtInt3e.Ch8.S3.html#p5\n",
    "\n",
    "The University of Utah. (2024, 27. april). Analysis of Variance (ANOVA). Sociology 3112. https://soc.utah.edu/sociology3112/anova.php"
   ]
  }
 ],
 "metadata": {
  "kernelspec": {
   "name": "venv",
   "language": "python",
   "display_name": "venv"
  },
  "language_info": {
   "codemirror_mode": {
    "name": "ipython",
    "version": 3
   },
   "file_extension": ".py",
   "mimetype": "text/x-python",
   "name": "python",
   "nbconvert_exporter": "python",
   "pygments_lexer": "ipython3",
   "version": "3.12.2"
  }
 },
 "nbformat": 4,
 "nbformat_minor": 5
}
